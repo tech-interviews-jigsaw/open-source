{
 "cells": [
  {
   "cell_type": "markdown",
   "id": "163dc4a7-da23-4e66-a994-b7e4798a51b8",
   "metadata": {},
   "source": [
    "# Working on Open Source Projects"
   ]
  },
  {
   "cell_type": "markdown",
   "id": "62751fb5-771a-454c-bf57-c7a70f9a02ba",
   "metadata": {},
   "source": [
    "### Introduction"
   ]
  },
  {
   "cell_type": "markdown",
   "id": "3e00ca31-ad16-4008-81ce-dad544bab968",
   "metadata": {},
   "source": [
    "Open Source projects are a very good way to:\n",
    "* *improve* your technical skills, \n",
    "* display your skills to employers, and \n",
    "* meet other software developers through your contributions."
   ]
  },
  {
   "cell_type": "markdown",
   "id": "06b22c9c-4abb-4f43-a800-a89dd712a543",
   "metadata": {
    "tags": []
   },
   "source": [
    "### Vetting an Open Source Project"
   ]
  },
  {
   "cell_type": "markdown",
   "id": "8bc47c07-75bf-4a23-b9a8-5f4172592a54",
   "metadata": {},
   "source": [
    "Open source projects take time to ramp up on as you are (1) working with a larger codebase, (2) working with a tech stack you may be unfamiliar with and (3) not have close contact with the dev team.  \n",
    "\n",
    "For these reasons, there are couple of items we recommend when choosing an open source project."
   ]
  },
  {
   "cell_type": "markdown",
   "id": "20cc5382-0042-4180-a611-42620be7899d",
   "metadata": {},
   "source": [
    "<img src=\"./choosing-opensource.png\" width=\"100%\">"
   ]
  },
  {
   "cell_type": "markdown",
   "id": "47353a52-673a-430b-bdba-3b11b53c8103",
   "metadata": {},
   "source": [
    "If you look at the github for DBT athena, there are a few good signs.  \n",
    "\n",
    "* Stars: Over 100 is a good benchmark.  \n",
    "* Issues: There are 20 open issues.  Between 5 - 100 is a good number to make sure there (1) isn't too much competition for closing issues and (2) not so many open issues that yours may not be accepted.\n",
    "* Currently Active: Notice that the last commit was just six hours ago, this means that maintainers are likely to be responsive to comments, and accept contributions."
   ]
  },
  {
   "cell_type": "markdown",
   "id": "bad73676-2c9f-49e9-83ec-ec765e2493e8",
   "metadata": {},
   "source": [
    "Other things to look at are whether or not there is a slack/discord community, or even weekly meetings.  For example, there are plenty of [CodeForAmerica](https://brigade.codeforamerica.org/brigades/) brigades that have both."
   ]
  },
  {
   "cell_type": "markdown",
   "id": "2fd7185b-7efc-434a-863e-f95d27225153",
   "metadata": {},
   "source": [
    "#### Can you make contributions?"
   ]
  },
  {
   "cell_type": "markdown",
   "id": "65e51147-374c-4db1-b234-39b34e649762",
   "metadata": {},
   "source": [
    "Next you would want to get a sense of whether making contributions is within reach.  First you may want to explore the codebase.  For example, with our [athena-dbt repository](https://github.com/dbt-athena/dbt-athena), most of the code appears located in [this folder](https://github.com/dbt-athena/dbt-athena/tree/main/dbt).\n",
    "\n",
    "After exploring some of the code, next would be to look at issues, specifically those with the label good first issue."
   ]
  },
  {
   "cell_type": "markdown",
   "id": "7a59b5a5-427f-4170-9acb-53d4825340b9",
   "metadata": {},
   "source": [
    "<img src=\"./first-issues.png\" width=\"60%\">"
   ]
  },
  {
   "cell_type": "markdown",
   "id": "78cd7efb-e3bc-48a5-9fed-403ac104d6dd",
   "metadata": {},
   "source": [
    "But you should also explore those without that label, as they may still be within your capabilities."
   ]
  },
  {
   "cell_type": "markdown",
   "id": "1bc79e89-2748-4485-ae1b-e07325d3eb2f",
   "metadata": {},
   "source": [
    "### Initial Steps"
   ]
  },
  {
   "cell_type": "markdown",
   "id": "51b06aaf-3fa2-4f93-bef3-c752fedac59a",
   "metadata": {},
   "source": [
    "The initial step with any project is to *install it* and get it working.  From there, you can see if there is a specific issue you can solve.  \n",
    "\n",
    "Then try to reproduce the bug that is being described.  It's normally easier to begin with fixing a bug rather than solving a feature.\n",
    "\n",
    "And finally, make sure to look at any documentation, as well as search through closed issues, to see how they were solved."
   ]
  },
  {
   "cell_type": "markdown",
   "id": "b5e339c8-9da2-4308-8b81-3363c9577f60",
   "metadata": {},
   "source": [
    "> Just click on the Closed label under issues, and then you can search through them."
   ]
  },
  {
   "cell_type": "markdown",
   "id": "1f379866-642d-4224-aa72-8bebc4902bf8",
   "metadata": {},
   "source": [
    "<img src=\"./closed-issues.png\" width=\"60%\">"
   ]
  },
  {
   "cell_type": "markdown",
   "id": "e740e23e-1613-48be-80e2-677f38b61b65",
   "metadata": {},
   "source": [
    "Seeing how a related issue was solved, will provide guidance as to how to solve the issue."
   ]
  },
  {
   "cell_type": "markdown",
   "id": "f579c6c4-253e-4ec2-9607-20e34c12e6c6",
   "metadata": {},
   "source": [
    "### Choosing a project"
   ]
  },
  {
   "cell_type": "markdown",
   "id": "dcd89ba9-b6d2-48fa-8b2a-a487289b9ce8",
   "metadata": {},
   "source": [
    "There are two types of projects we recommend: (1) Code for America projects, and (2) data engineering tooling projects."
   ]
  },
  {
   "cell_type": "markdown",
   "id": "a925f23f-2ef7-4400-bd95-5eeb71dd44c8",
   "metadata": {},
   "source": [
    "1. Code For America\n",
    "\n",
    "These projects are good because they often have weekly zoom meetings, have a slack channel, and are similar to technical problems we worked on in class.  If you have a local CFA community that is active, it could be good for networking.  But you do not need to be in the city to be active in the community.  For example, many Code For Boston volunteers are not actually in Boston."
   ]
  },
  {
   "cell_type": "markdown",
   "id": "8948d680-a3f8-4030-ae15-e39daee7799b",
   "metadata": {},
   "source": [
    "You can see code for America Brigades here, and from there poke around on their githubs.  For example, you can see Code For Boston's github [here](https://github.com/orgs/codeforboston/repositories)."
   ]
  },
  {
   "cell_type": "markdown",
   "id": "61adb59b-5b5c-468c-8546-2049735d249d",
   "metadata": {},
   "source": [
    "2. Data Engineering Tools"
   ]
  },
  {
   "cell_type": "markdown",
   "id": "68473b2b-3bf5-41a5-af55-a2da492ec0f5",
   "metadata": {},
   "source": [
    "These projects will look better on a resume, but also may be more challenging.  It's still good to select those projects that are active, and have slack or weekly meetings.  Here are some projects that we can suggest."
   ]
  },
  {
   "cell_type": "markdown",
   "id": "c5c7d48a-58c5-4568-9a72-767c24ef4f86",
   "metadata": {},
   "source": [
    "* [Flyte](https://docs.flyte.org/en/latest/community/index.html) - An orchestrator (like Prefect) with weekly meetings, slack.\n",
    "\n",
    "* [DBT Adapters](https://docs.getdbt.com/docs/community-adapters) - Typically have smaller codebases\n",
    "\n",
    "* [Great Expectations](https://github.com/great-expectations/great_expectations) A widely used tool that has issues that appear beginner friendly."
   ]
  },
  {
   "cell_type": "markdown",
   "id": "ad972fe7-3207-4822-9f43-cad23b53c5b8",
   "metadata": {},
   "source": [
    "Finally, you may also want to contribute to a project related to your field of interest.  Below are healthcare open source projects:\n",
    "\n",
    "* [Awesome Healthcare](https://github.com/kakoni/awesome-healthcare)"
   ]
  },
  {
   "cell_type": "markdown",
   "id": "43bdac07-4fa0-4b35-9532-d3966ce086f9",
   "metadata": {
    "tags": []
   },
   "source": [
    "### Resources"
   ]
  },
  {
   "cell_type": "markdown",
   "id": "18d800b0-62ff-46a0-9731-1aa573673a48",
   "metadata": {},
   "source": [
    "[Contribute to DBT Adapter](https://docs.getdbt.com/docs/contribute-core-adapters)"
   ]
  },
  {
   "cell_type": "markdown",
   "id": "2d3df8d2-5d93-4fc2-86d1-88586b41d8f8",
   "metadata": {},
   "source": [
    "[Practice First Contribution Workflow](https://github.com/firstcontributions/first-contributions)"
   ]
  }
 ],
 "metadata": {
  "kernelspec": {
   "display_name": "Python 3 (ipykernel)",
   "language": "python",
   "name": "python3"
  },
  "language_info": {
   "codemirror_mode": {
    "name": "ipython",
    "version": 3
   },
   "file_extension": ".py",
   "mimetype": "text/x-python",
   "name": "python",
   "nbconvert_exporter": "python",
   "pygments_lexer": "ipython3",
   "version": "3.9.12"
  }
 },
 "nbformat": 4,
 "nbformat_minor": 5
}
