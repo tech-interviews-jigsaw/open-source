{
 "cells": [
  {
   "cell_type": "code",
   "execution_count": null,
   "id": "987d6573-a250-4922-905b-ea0b37f09fd0",
   "metadata": {},
   "outputs": [],
   "source": []
  },
  {
   "cell_type": "markdown",
   "id": "7f8dc69f-297f-494f-a204-602ddd457221",
   "metadata": {},
   "source": [
    "[Clinica](https://github.com/aramis-lab/clinica)\n",
    "\n",
    "[Fasten Onprem](https://github.com/fastenhealth/fasten-onprem)"
   ]
  },
  {
   "cell_type": "markdown",
   "id": "0225dc40-3af1-4c0d-98de-af6db0211d6b",
   "metadata": {},
   "source": [
    "[Erpnext](https://github.com/frappe/erpnext) - Seems fairly complicated"
   ]
  },
  {
   "cell_type": "markdown",
   "id": "74422f8d-4e3e-4d50-ab16-98bceb22b83d",
   "metadata": {},
   "source": [
    "[Metriport](https://github.com/metriport/metriport) - Node Application"
   ]
  },
  {
   "cell_type": "markdown",
   "id": "cb02c87b-fd5c-4d54-b314-bba0974dd89e",
   "metadata": {},
   "source": [
    "[Frappe Health](https://github.com/frappe/health)"
   ]
  },
  {
   "cell_type": "code",
   "execution_count": null,
   "id": "f374ba19-9182-4b09-983b-db3bfee13617",
   "metadata": {},
   "outputs": [],
   "source": []
  }
 ],
 "metadata": {
  "kernelspec": {
   "display_name": "Python 3 (ipykernel)",
   "language": "python",
   "name": "python3"
  },
  "language_info": {
   "codemirror_mode": {
    "name": "ipython",
    "version": 3
   },
   "file_extension": ".py",
   "mimetype": "text/x-python",
   "name": "python",
   "nbconvert_exporter": "python",
   "pygments_lexer": "ipython3",
   "version": "3.9.12"
  }
 },
 "nbformat": 4,
 "nbformat_minor": 5
}
