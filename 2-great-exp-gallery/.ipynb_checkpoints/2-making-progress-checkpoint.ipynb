{
 "cells": [
  {
   "cell_type": "markdown",
   "id": "7bf55f0d-f75d-450e-b2f5-01b4fa576b2c",
   "metadata": {},
   "source": [
    "# Making Progress"
   ]
  },
  {
   "cell_type": "markdown",
   "id": "e41cea1c-37b9-422b-bf27-836294732f3f",
   "metadata": {},
   "source": [
    "### Introduction"
   ]
  },
  {
   "cell_type": "markdown",
   "id": "de1e5415-ae2a-4aa8-acbc-2be2fb15ebb0",
   "metadata": {},
   "source": [
    "### Steps"
   ]
  },
  {
   "cell_type": "markdown",
   "id": "89eb9a34-7707-4e0f-986f-f4cd6b9b5e4e",
   "metadata": {},
   "source": [
    "1. Compare "
   ]
  },
  {
   "cell_type": "markdown",
   "id": "6ff10b0e-56c1-49d6-9a26-39b535a96d77",
   "metadata": {},
   "source": [
    "```python\n",
    "# expect_column_to_have_no_months_missing.py\n",
    "\n",
    "# get all unique months from timestamp\n",
    "        query = sa.select(\n",
    "            sa.func.date_format(sa.func.Date(column), MONTH_FORMAT).distinct()\n",
    "        ).select_from(selectable)\n",
    "\n",
    "        breakpoint()\n",
    "```"
   ]
  },
  {
   "cell_type": "code",
   "execution_count": null,
   "id": "820b8fef-932b-41ee-af27-e103f2c9b5ed",
   "metadata": {},
   "outputs": [],
   "source": []
  }
 ],
 "metadata": {
  "kernelspec": {
   "display_name": "Python 3 (ipykernel)",
   "language": "python",
   "name": "python3"
  },
  "language_info": {
   "codemirror_mode": {
    "name": "ipython",
    "version": 3
   },
   "file_extension": ".py",
   "mimetype": "text/x-python",
   "name": "python",
   "nbconvert_exporter": "python",
   "pygments_lexer": "ipython3",
   "version": "3.11.5"
  }
 },
 "nbformat": 4,
 "nbformat_minor": 5
}
