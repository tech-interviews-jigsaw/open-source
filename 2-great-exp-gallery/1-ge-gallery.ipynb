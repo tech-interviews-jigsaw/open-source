{
 "cells": [
  {
   "cell_type": "markdown",
   "id": "b59a9293-171b-49e2-bf38-84cf1966d975",
   "metadata": {},
   "source": [
    "# Great Expectations Gallery"
   ]
  },
  {
   "cell_type": "markdown",
   "id": "3ae31807-f116-4874-8dca-df5ef2e8fdfc",
   "metadata": {},
   "source": [
    "### Introduction\n",
    "\n",
    "In this lesson, we'll get you set up with the great expectations gallery."
   ]
  },
  {
   "cell_type": "markdown",
   "id": "98d62a70-7582-4482-a050-1c5f9fa63720",
   "metadata": {},
   "source": [
    "### Exploring the Gallery"
   ]
  },
  {
   "cell_type": "markdown",
   "id": "6b16712f-3d8b-4a04-8a20-78e8f5c3f324",
   "metadata": {},
   "source": [
    "You can view the Great Expectations gallery by clicking [here](https://greatexpectations.io/expectations/?viewType=Datasource).  From there, click on DataSource in the top right of the gallery."
   ]
  },
  {
   "cell_type": "markdown",
   "id": "a1350e4d-437b-4b60-8928-36e2e4179803",
   "metadata": {},
   "source": [
    "<img src=\"./data-sources.png\">"
   ]
  },
  {
   "cell_type": "markdown",
   "id": "eb652bb9-2762-4321-8bb8-e755c29b833c",
   "metadata": {},
   "source": [
    "From there, you can see that many of the expectations do not have implementations for data sources like sqlite or postgres, among others.  \n",
    "\n",
    "Make it easy on yourself.  Begin with expectations that you feel like you can implement in postgres.  \n",
    "\n",
    "For example, here are some expectations that look reasonable to try to solve:\n",
    "* [Average to be within range](https://greatexpectations.io/expectations/expect_column_average_to_be_within_range_of_given_point?filterType=Backend%20support&gotoPage=1&showFilters=true&viewType=Datasource)\n",
    "\n",
    "* [Distinct Values to be continuous](https://greatexpectations.io/expectations/expect_column_distinct_values_to_be_continuous?filterType=Backend%20support&gotoPage=1&showFilters=true&viewType=Datasource)\n",
    "\n",
    "* [Expect Column to Have no Months Missing](https://greatexpectations.io/expectations/expect_column_to_have_no_months_missing?filterType=Backend%20support&gotoPage=1&showFilters=true&viewType=Datasource)\n",
    "\n",
    "* [Expect values to be alphabetical](https://greatexpectations.io/expectations/expect_column_values_to_be_alphabetical?filterType=Backend%20support&gotoPage=1&showFilters=true&viewType=Datasource)\n",
    "\n",
    "* [Expect Column Values not to be a future date](https://greatexpectations.io/expectations/expect_column_values_not_to_be_future_date?filterType=Backend%20support&gotoPage=1&showFilters=true&viewType=Datasource)"
   ]
  },
  {
   "cell_type": "markdown",
   "id": "57ad0796-30e3-42e2-957f-4106ef9915b8",
   "metadata": {},
   "source": [
    "### Beginning Contributions"
   ]
  },
  {
   "cell_type": "markdown",
   "id": "19e9938b-9115-48a0-aa57-39b21703c157",
   "metadata": {},
   "source": [
    "From there, we can choose an expectation and try to make a contribution.  For example, let's say that we want to choose the Expect Column to Have no Months Missing."
   ]
  },
  {
   "cell_type": "markdown",
   "id": "044a3695-3100-439c-89a3-76a887bda8a1",
   "metadata": {},
   "source": [
    "The first thing to do is to search for the file in VS Code.  "
   ]
  },
  {
   "cell_type": "markdown",
   "id": "6590e44d-3a9a-4dc5-b6e3-782b350931a0",
   "metadata": {},
   "source": [
    "> In VS Code you can press `CMD + P`, and then look for a file with that name."
   ]
  },
  {
   "cell_type": "markdown",
   "id": "5e6c3e3d-31c4-4f85-9f9e-d12146bd16ac",
   "metadata": {},
   "source": [
    "> <img src=\"./expect-col-months-missing.png\">"
   ]
  },
  {
   "cell_type": "markdown",
   "id": "7eb78e94-7b43-4808-9c74-2842c318b707",
   "metadata": {},
   "source": [
    "Ok, so we can open up the [no_months_missing file](https://github.com/great-expectations/great_expectations/blob/develop/contrib/experimental/great_expectations_experimental/expectations/expect_column_to_have_no_months_missing.py) and take a look."
   ]
  },
  {
   "cell_type": "markdown",
   "id": "e5c8e87b-8476-4a87-a350-07746ef35cfe",
   "metadata": {},
   "source": [
    "There, we can see the logic beginning with the following:\n",
    "\n",
    "```python    \n",
    "@metric_value(engine=SqlAlchemyExecutionEngine)\n",
    "    def _sqlalchemy(\n",
    "```"
   ]
  },
  {
   "cell_type": "markdown",
   "id": "58d21ab5-5c90-4abc-bb06-554e4ab2d550",
   "metadata": {},
   "source": [
    "At the bottom of the file, you can see that we should be able to run that file directly."
   ]
  },
  {
   "cell_type": "markdown",
   "id": "a9572b0c-4afc-4e7c-8155-00b542e1e03c",
   "metadata": {},
   "source": [
    "```python\n",
    "if __name__ == \"__main__\":\n",
    "   ExpectColumnToHaveNoMonthsMissing().print_diagnostic_checklist()\n",
    "```"
   ]
  },
  {
   "cell_type": "markdown",
   "id": "099a34d3-bc59-4966-9507-0e393c7b9a02",
   "metadata": {},
   "source": [
    "So let's navigate to the file and run it (you can see the path to it at the top of vs code)."
   ]
  },
  {
   "cell_type": "markdown",
   "id": "e8ff0e94-f428-4c1f-b2f6-2fd7e4084e32",
   "metadata": {},
   "source": [
    "<img src=\"./vs-code-path.png\" width=\"80%\">"
   ]
  },
  {
   "cell_type": "markdown",
   "id": "d8df65b1-6e43-4b11-aef6-6a0e84df52e8",
   "metadata": {},
   "source": [
    "> Make sure that the your environment is activated and that your pip libraries for the codebase are installed:\n",
    "\n",
    "```bash\n",
    "source venv/bin/activate\n",
    "```\n",
    "\n",
    "And then, from outside of the great_expectations codebase you can run the following:"
   ]
  },
  {
   "cell_type": "markdown",
   "id": "f79805e5-d278-413f-a03a-0ef0c9449d95",
   "metadata": {},
   "source": [
    "```bash\n",
    "python3 great_expectations/contrib/experimental/great_expectations_experimental/expectations/expect_column_to_have_no_months_missing.py\n",
    "```"
   ]
  },
  {
   "cell_type": "markdown",
   "id": "ef2a3dbb-b856-4d64-b3db-a456e8806fdd",
   "metadata": {},
   "source": [
    "When I did, I got the following:"
   ]
  },
  {
   "cell_type": "markdown",
   "id": "0d66e981-d9e0-42da-8965-0441445b7109",
   "metadata": {},
   "source": [
    "<img src=\"./great-exp-checklist.png\">"
   ]
  },
  {
   "cell_type": "markdown",
   "id": "2e20383e-fb7c-4462-8347-cb4c68675cc5",
   "metadata": {},
   "source": [
    "So we can see that we have an existing bug below, and it's with SQLite.  \n",
    "\n",
    "So this is probably a better place to start -- with fixing the SQLite bug. "
   ]
  },
  {
   "cell_type": "markdown",
   "id": "135cc01a-e027-4c7b-8b0c-a1215ca4eb04",
   "metadata": {},
   "source": [
    "### Looking at References"
   ]
  },
  {
   "cell_type": "markdown",
   "id": "d3f8edac-75f7-426a-8cc7-e5d8403d4a0a",
   "metadata": {},
   "source": [
    "Before beginning making contributions it's important to (1) make sure our environment is properly set up, and (2) see if there are other examples we can reference.\n",
    "\n",
    "Well, honestly, looking at any other expectation of type `ColumnAggregateMetricProvider` would be a good place to start.  But in this case, we can see if there are is a similar test regarding dates.  There is.\n",
    "\n",
    "* [Expect Col to Have No Days Missing](https://github.com/great-expectations/great_expectations/blob/develop/contrib/experimental/great_expectations_experimental/expectations/expect_column_to_have_no_days_missing.py)"
   ]
  },
  {
   "cell_type": "markdown",
   "id": "edd3b924-83ca-4fb3-9e78-0ef30b2e6ef6",
   "metadata": {},
   "source": [
    "Ok, so looking at this would be useful.  If we look for it in the gallery, we can see that it has implementations in Sqlite, Postgres, Trino, etc.\n",
    "\n",
    "* [Gallery link](https://greatexpectations.io/expectations/expect_column_to_have_no_days_missing?filterType=Backend%20support&gotoPage=1&showFilters=true&viewType=Summary)"
   ]
  },
  {
   "cell_type": "markdown",
   "id": "312ebd7c-9dc6-4cc1-a7f7-83ca10266b19",
   "metadata": {},
   "source": [
    "We can try running this file with the following:"
   ]
  },
  {
   "cell_type": "markdown",
   "id": "5148b18a-0642-42dc-927a-1ee04c5f4cd4",
   "metadata": {},
   "source": [
    "```bash\n",
    "python3 great_expectations/contrib/experimental/great_expectations_experimental/expectations/expect_column_to_have_no_days_missing.py\n",
    "```"
   ]
  },
  {
   "cell_type": "markdown",
   "id": "9f0d365c-2b32-48a5-83ea-dcf0394a4382",
   "metadata": {},
   "source": [
    "Ok, so now let's look at our results."
   ]
  },
  {
   "cell_type": "markdown",
   "id": "0a1829e3-4499-4087-806b-17b35b911793",
   "metadata": {},
   "source": [
    "<img src=\"./postgres-test.png\">"
   ]
  },
  {
   "cell_type": "markdown",
   "id": "2a32201a-45a2-48ed-b5be-6cdc71458528",
   "metadata": {},
   "source": [
    "<img src=\"./checklist.png\">"
   ]
  },
  {
   "cell_type": "markdown",
   "id": "44c8377c-8416-4c33-afdc-38d3df8085c9",
   "metadata": {},
   "source": [
    "Ok, so in this case, we do see that some components are not work as our environment is not setup.  For example, we can see that pyspark, and psycopg2 are not installed.\n",
    "\n",
    "If we do want to get GE running for these libaries, we'll have to run install the necessary dependencies as is explained [here](https://github.com/great-expectations/great_expectations/blob/develop/CONTRIBUTING_CODE.md)."
   ]
  },
  {
   "cell_type": "markdown",
   "id": "e4d0d920-c327-447b-8643-9fbbad570ae7",
   "metadata": {},
   "source": [
    "> For example, we could run: `pip install -c constraints-dev.txt -e \".[test, spark, postgresql]\"`"
   ]
  },
  {
   "cell_type": "markdown",
   "id": "221ef1b7-02f6-4a3e-b73c-db35c8f97802",
   "metadata": {},
   "source": [
    "But we don't have to.  It looks like sqlite tests are passing in this example, and that is enough work to now try to implement in our `no_missing_months` example."
   ]
  },
  {
   "cell_type": "markdown",
   "id": "5827849c-6791-4610-b468-54fb57f4a630",
   "metadata": {},
   "source": [
    "So let's first see how this is working here."
   ]
  },
  {
   "cell_type": "markdown",
   "id": "fc93f23a-37f8-4ce9-a13e-db212c873bdf",
   "metadata": {},
   "source": [
    "We can see, for example, that line 48 in `expect_column_to_have_no_days_missing`, has particular code just for sqlite.  This may be helpful in understanding what's going wrong in our `no_missing_months`."
   ]
  },
  {
   "cell_type": "markdown",
   "id": "49f45813-70da-4b16-878d-e34285a0b1bb",
   "metadata": {},
   "source": [
    "And then of course, we should use tools like our `breakpoint()` to further understand why `expect_column_to_have_no_days_missing` is breaking on sqlite.\n",
    "\n",
    "\n",
    "### Moving onto postgres\n",
    "\n",
    "From there, we can try to implement with other postgres, and other databases."
   ]
  },
  {
   "cell_type": "markdown",
   "id": "a2a5213e-67a0-404b-9664-a4b2bc31e29a",
   "metadata": {},
   "source": [
    "> For postgres, you will likely need to run the following:\n",
    "* `pip install -c constraints-dev.txt -e \".[test, spark, postgresql]\"`\n",
    "* And then login to the postgres shell, and create a database called `test_ci`."
   ]
  },
  {
   "cell_type": "markdown",
   "id": "5ad19aab-dc3d-4029-bef0-d4c0c6dfab95",
   "metadata": {},
   "source": [
    "```sql\n",
    "create database test_ci;\n",
    "```"
   ]
  },
  {
   "cell_type": "markdown",
   "id": "4c492fbb-91eb-4bbb-8b54-9f54e1abb522",
   "metadata": {},
   "source": [
    "And from there, you can confirm that the tests for `expect_column_to_have_no_days_missing` are working."
   ]
  },
  {
   "cell_type": "markdown",
   "id": "12227c07-ec76-45a9-8c52-22a29caea914",
   "metadata": {},
   "source": [
    "<img src=\"./expect-running.png\" width=\"70%\">"
   ]
  },
  {
   "cell_type": "markdown",
   "id": "03a2131c-bff8-4b5d-beb2-d989fc02fddf",
   "metadata": {},
   "source": [
    "So this time we see it indicates `All 3 tests for postgresql` are passing.  So from there you can see if you can the MonthsMissing code to work with postgres."
   ]
  }
 ],
 "metadata": {
  "kernelspec": {
   "display_name": "Python 3 (ipykernel)",
   "language": "python",
   "name": "python3"
  },
  "language_info": {
   "codemirror_mode": {
    "name": "ipython",
    "version": 3
   },
   "file_extension": ".py",
   "mimetype": "text/x-python",
   "name": "python",
   "nbconvert_exporter": "python",
   "pygments_lexer": "ipython3",
   "version": "3.11.5"
  }
 },
 "nbformat": 4,
 "nbformat_minor": 5
}
