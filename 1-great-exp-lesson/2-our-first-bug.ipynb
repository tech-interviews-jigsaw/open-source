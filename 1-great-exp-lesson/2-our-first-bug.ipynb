{
 "cells": [
  {
   "cell_type": "markdown",
   "id": "595e5214-66c6-4602-9e4b-ddc5f7ee06e8",
   "metadata": {},
   "source": [
    "# Debugging Great Expectations"
   ]
  },
  {
   "cell_type": "markdown",
   "id": "19f85883-145a-4226-bc33-771dbb00983d",
   "metadata": {},
   "source": [
    "### Introduction"
   ]
  },
  {
   "cell_type": "markdown",
   "id": "be15f5fb-74a3-4696-9b89-1d940012a65a",
   "metadata": {},
   "source": [
    "Now that we got setup with great expectations, let's see if we can solve our first bug."
   ]
  },
  {
   "cell_type": "markdown",
   "id": "4a429854-6a0b-491c-a5f2-9268b0b59b9a",
   "metadata": {},
   "source": [
    "### Our first bug"
   ]
  },
  {
   "cell_type": "markdown",
   "id": "8b1479bf-3c5c-4cfc-b9f6-0d03755ee56e",
   "metadata": {},
   "source": [
    "Choosing an issue.  In general, it is easier to solve a bug than a feature, as it is typically less work.  We should also look for a bug that seems relatively easy -- as the real challenge will be getting familiar with a new codebase.\n",
    "\n",
    "Let's work with the upper case column names [issue here](https://github.com/great-expectations/great_expectations/issues/8619)."
   ]
  },
  {
   "cell_type": "markdown",
   "id": "0aaf3450-851f-4f85-89ba-1ff31f5611f9",
   "metadata": {},
   "source": [
    "Read through the issue.  You can see that they provided a failing test case in the issue.  Copy and paste that code inside of the outer great_expectations codebase and place it in a file called `test.py`. "
   ]
  },
  {
   "cell_type": "markdown",
   "id": "49c17a8d-b5c0-4e6c-be50-cc8d00328a86",
   "metadata": {},
   "source": [
    "Then run the test.py file, and confirm that there are failing tests."
   ]
  },
  {
   "cell_type": "markdown",
   "id": "b33215d1-271c-42c5-92e2-866d6d10c71e",
   "metadata": {},
   "source": [
    "<img src=\"./failed.png\">"
   ]
  },
  {
   "cell_type": "markdown",
   "id": "e0112294-e48d-4616-9949-c24801abeb66",
   "metadata": {},
   "source": [
    "### Get to green then red"
   ]
  },
  {
   "cell_type": "markdown",
   "id": "b909860b-831e-41ad-b70c-79c38af2b5f5",
   "metadata": {},
   "source": [
    "Now the issue states that the problem is that great expecations (or the underlying database) is being case sensitive with the column namse.  Let's confirm that it really does have to do with the upper casing."
   ]
  },
  {
   "cell_type": "markdown",
   "id": "29caa40b-e010-49cd-8e28-ce77f7996a47",
   "metadata": {},
   "source": [
    "So remove the `.upper()` in the expection.\n",
    "\n",
    "```python\n",
    "expectations = {\n",
    "    \"expect_column_values_to_not_be_null\": {\"column\": column_name},\n",
    "    \"expect_column_values_to_be_null\": {\"column\": column_name},\n",
    "    \"expect_column_max_to_be_between\": {\n",
    "        \"column\": column_name.upper(),\n",
    "        \"min_value\": 1,\n",
    "        \"max_value\": 99,\n",
    "    },\n",
    "```"
   ]
  },
  {
   "cell_type": "markdown",
   "id": "9adc90d2-d542-48af-80a0-1100a528b120",
   "metadata": {},
   "source": [
    "Ok, now if we run the file again, we see that we no longer have failing tests."
   ]
  },
  {
   "cell_type": "markdown",
   "id": "f19f3672-4fc7-426e-93f7-43672f8afa12",
   "metadata": {},
   "source": [
    "<img src=\"./none-failing.png\">"
   ]
  },
  {
   "cell_type": "markdown",
   "id": "2c19c471-4252-471d-b417-916711bab370",
   "metadata": {},
   "source": [
    "So this is a good strategy.  We just want to make sure that there really is a cause and effect between the issue. "
   ]
  },
  {
   "cell_type": "markdown",
   "id": "5fd0b1c1-6e71-4038-9c24-3f74631cb094",
   "metadata": {},
   "source": [
    "### Finding the Relevant Fiels"
   ]
  },
  {
   "cell_type": "markdown",
   "id": "3477f8a3-22d4-4d10-ae3f-c506685b3118",
   "metadata": {},
   "source": [
    "1. Learn Through Exploration\n",
    "\n",
    "Our first thought is to search around in the codebase.  It looks like the `get_attr` method at the bottom of the codebase is essentially some meta-programming that is equivalent to calling `validator.expect_column_values_to_not_be_null`.  So to look for these functions, we can cmd + click on something like line 68, `validator.expect_column_values_to_not_be_null`, which will take us to the following."
   ]
  },
  {
   "cell_type": "markdown",
   "id": "ebb2acd9-3bc8-4e4b-a2a8-340f2ee9e94c",
   "metadata": {},
   "source": [
    "<img src=\"./validator-validate-exp.png\" width=\"60%\">"
   ]
  },
  {
   "cell_type": "markdown",
   "id": "8f520fa7-a08a-4e9c-a17f-eb77f4e10adb",
   "metadata": {},
   "source": [
    "Here, this does not do much expect call `get_expectation_impl`, and command + clicking on that, shows us that it selects from a dictionary of expectations.  This is not looking so fruitful -- we can potentially come back to this.  \n",
    "\n",
    "So exploring the codebase wasn't so easy as a first step.  Let's move onto seeing if the documentation provides any more help."
   ]
  },
  {
   "cell_type": "markdown",
   "id": "f65564c5-b6e4-4857-a6a8-2ceea6c97ec1",
   "metadata": {},
   "source": [
    "2. Learn through the documentation\n",
    "\n",
    "The issue says that there are multiple core expectations that fail under this scenario.  Maybe we can learn more about how these expectations work, either by getting a description of expectations in general, or looking at something specific to these expectations and how they are built/relevant files. \n",
    "\n",
    "We can see the documentation [here](https://docs.greatexpectations.io/docs/tutorials/quickstart/).\n",
    "\n",
    "And in doing so, there are a couple of components that look relevant such as: \n",
    "* Looking at the quickstart\n",
    "* Looking at custom implementation of a validator\n",
    "> Maybe this will tell us how validators work underneath\n",
    "* Searching the expecation gallery\n",
    "\n",
    "It turns out there is also an [expectation gallery](https://greatexpectations.io/expectations/).  Let's take a look to see if this can help us.  We can place in our `expect_column_values_to_not_be_null` directly into the search bar, and will get taken to this [link](https://greatexpectations.io/expectations/expect_column_values_to_not_be_null?filterType=Backend%20support&gotoPage=1&showFilters=true&viewType=Summary)."
   ]
  },
  {
   "cell_type": "markdown",
   "id": "5516b073-2e8d-4aed-9d5b-8b174ea05681",
   "metadata": {},
   "source": [
    "Ok, so this looks interesting.  Perhaps the most interesting component is that it says this is of type `Core ColumnMapExpectation`."
   ]
  },
  {
   "cell_type": "markdown",
   "id": "d2b4060e-34b6-4af8-a71c-16d38752f00b",
   "metadata": {},
   "source": [
    "<img src=\"./core-col-map-expect.png\">"
   ]
  },
  {
   "cell_type": "markdown",
   "id": "8d4d5b82-5c72-4e4c-99a5-48a93ce84a4c",
   "metadata": {},
   "source": [
    "### Back to the codebase"
   ]
  },
  {
   "cell_type": "markdown",
   "id": "f50fb6ad-5777-46f1-b500-37bc8b2634c0",
   "metadata": {},
   "source": [
    "So now we believe we may have a clue to where one of our failing expectations is implemented.  Let's look for it inside of the codebase.  We can type `cmd + p` in VScode and look for a matching file (if that doesn't work we can use the finder to search the codebase for ColumnMapExpectation)."
   ]
  },
  {
   "cell_type": "markdown",
   "id": "85bc49ff-d127-4c36-9c5d-722bc6184764",
   "metadata": {},
   "source": [
    "<img src=\"./col-map-exp.png\">"
   ]
  },
  {
   "cell_type": "markdown",
   "id": "d43c4961-2c62-4349-9470-3cb7bbddd12b",
   "metadata": {},
   "source": [
    "> We do this by pressing `cmd + p`."
   ]
  },
  {
   "cell_type": "markdown",
   "id": "a6835d99-6f4c-4509-8d08-d21b6519bb97",
   "metadata": {},
   "source": [
    "then looking through the list of files, the files in the `great_expectations/expectations` folder look most relevant.  \n",
    "\n",
    "> The others are examples or tests."
   ]
  },
  {
   "cell_type": "markdown",
   "id": "dfec4c11-c6ac-428b-b66a-0d7070e8d3cb",
   "metadata": {},
   "source": [
    "So we open up those files, and potentially could go through them one by one.  But neither of them look exactly right -- so let's take another look at the documentation."
   ]
  },
  {
   "cell_type": "markdown",
   "id": "39f10e63-60ae-4e55-9fcc-d26bafc2c4d7",
   "metadata": {},
   "source": [
    "<img src=\"./core-col-map-expect.png\">"
   ]
  },
  {
   "cell_type": "markdown",
   "id": "2ea8603a-ffe6-4703-8e27-2fcfa7df3bc4",
   "metadata": {},
   "source": [
    "It says that it should be a `Core ColumnMapExpectation`.  This seems like a pretty well defined class, which we have not found."
   ]
  },
  {
   "cell_type": "markdown",
   "id": "f8db8285-2fbb-4051-8b10-f036622e5a59",
   "metadata": {},
   "source": [
    "<img src=\"./core-expect.png\">"
   ]
  },
  {
   "cell_type": "markdown",
   "id": "5948e900-3960-42a7-82a1-5d7a1ec3a5ff",
   "metadata": {},
   "source": [
    "But wait, looking at the codebase, there's a folder called `core` staring right at us.  Let's look inside."
   ]
  },
  {
   "cell_type": "markdown",
   "id": "4b91feaf-ef36-4cec-ae16-6770731a3873",
   "metadata": {},
   "source": [
    "<img src=\"./core-tests.png\" width=\"60%\">"
   ]
  },
  {
   "cell_type": "markdown",
   "id": "7d119704-a369-4a9a-9ce8-e9f4003e9df5",
   "metadata": {},
   "source": [
    "Oh this looks interesting.  So let's see if there is a file with the name of the test we are looking for: `expect_column_values_to_not_be_null`."
   ]
  },
  {
   "cell_type": "markdown",
   "id": "db73dd47-432d-42a7-9b00-db1c665b0c78",
   "metadata": {},
   "source": [
    "There is."
   ]
  },
  {
   "cell_type": "markdown",
   "id": "46004b73-719b-4301-a900-5127bc704aca",
   "metadata": {},
   "source": [
    "### Are we done?"
   ]
  },
  {
   "cell_type": "markdown",
   "id": "f78463b9-9d9a-47ef-9fdb-ff18ae614f7d",
   "metadata": {},
   "source": [
    "Now that we have found the correct file, one wonders if Chatgpt can take it from here."
   ]
  },
  {
   "cell_type": "markdown",
   "id": "b95a39f7-062e-4dd2-9105-749e7cec3b3b",
   "metadata": {},
   "source": [
    "I asked ChatGPT to help and copied and pasting the file into GPT-4:"
   ]
  },
  {
   "cell_type": "markdown",
   "id": "9717e33c-b961-4964-aa71-72caeea55854",
   "metadata": {},
   "source": [
    "> <img src=\"./ask-chatgpt.png\">"
   ]
  },
  {
   "cell_type": "markdown",
   "id": "2fc99b35-1236-4a5a-9bba-f54d1c561702",
   "metadata": {},
   "source": [
    "It recommended code changes, but they only broke the code further. This was apparent, as we no longer able to run test.py and get to our failing test, but using Chatgpt's suggestion, it broke ebfore that.\n",
    "\n",
    "Looks like we need to move through this alone.  Score one for the humans.\n",
    "\n",
    "The next step is to search look through this file to understand look for the relevant code.  What's relevant code -- well I would think anything that actually queries the database.  We'll let you take a look how would you handle it from here?"
   ]
  },
  {
   "cell_type": "markdown",
   "id": "4139b6c6-bf99-42e5-a610-0c0450d59ef4",
   "metadata": {},
   "source": [
    "### Summary"
   ]
  },
  {
   "cell_type": "markdown",
   "id": "5c30f398-6857-4f92-9c28-2623cc57f3bd",
   "metadata": {},
   "source": [
    "### Diving into"
   ]
  },
  {
   "cell_type": "markdown",
   "id": "965522ff-d8e5-463d-af35-c83698795746",
   "metadata": {},
   "source": [
    "We can now scan through the `expect_column_values_to_not_be_null.py` file, looking for relevant code.  A good mechanism is to look for the function names and "
   ]
  },
  {
   "cell_type": "markdown",
   "id": "98c35a96-a1ff-4526-935a-d7b9720450ca",
   "metadata": {},
   "source": [
    "* It looks like the code to change could be the validate method.  To see if it may be relevant, place a breakpoint.  \n",
    "\n",
    "> If we don't hit the breakpoint, we know the code is irrelevant, and we need to look elsewhere."
   ]
  },
  {
   "cell_type": "markdown",
   "id": "c3d8eff5-8c8d-4eb5-9b59-7995c8b11075",
   "metadata": {},
   "source": [
    "<img src=\"./hit-breakpoint.png\" width=\"70%\">"
   ]
  },
  {
   "cell_type": "markdown",
   "id": "64b7dc1e-34fd-4b44-9a8b-f9464acc8228",
   "metadata": {},
   "source": [
    "* Place in a breakpoint in the first line below the function, and then run our `test.py` file again to see if we hit it"
   ]
  },
  {
   "cell_type": "markdown",
   "id": "81ef5b96-290c-4c6c-83f0-b25f896a02c3",
   "metadata": {},
   "source": [
    "<img src=\"./breakpoint-hit.png\" width=\"60%\">"
   ]
  },
  {
   "cell_type": "markdown",
   "id": "cbcc9dab-2ed0-4184-968d-ce6e5d568933",
   "metadata": {},
   "source": [
    "### Look Around"
   ]
  },
  {
   "cell_type": "markdown",
   "id": "00ac9306-5130-4476-b8e8-a94c17b33c13",
   "metadata": {},
   "source": [
    "Now, we seem to be in the right ballpark, but the next step **is not** to start fixing things.  Instead, it's to look around. "
   ]
  },
  {
   "cell_type": "markdown",
   "id": "2b1b8b9a-612c-44a7-a068-16db112d1ed8",
   "metadata": {},
   "source": [
    "We can start with the parameters to the function: `configuration`, `metrics`, `runtime_configuration` and execution engine."
   ]
  },
  {
   "cell_type": "markdown",
   "id": "078e63bb-0aee-49f1-ba77-4068da3f1720",
   "metadata": {},
   "source": [
    "Which of these look most relevant?  Well remember, we are probably looking for the column name."
   ]
  },
  {
   "cell_type": "markdown",
   "id": "3f29a4ae-3a4e-4da8-a6a2-ca30aa3b9229",
   "metadata": {},
   "source": [
    "And if you look further down in the function, you can see the following:"
   ]
  },
  {
   "cell_type": "markdown",
   "id": "02b3af22-3aac-492c-aef3-91b1bb6516e2",
   "metadata": {},
   "source": [
    "```python\n",
    "result_format = self.get_result_format(\n",
    "            configuration=configuration, runtime_configuration=runtime_configuration\n",
    "        )\n",
    "        mostly = self.get_success_kwargs().get(\n",
    "            \"mostly\", self.default_kwarg_values.get(\"mostly\")\n",
    "        )\n",
    "        total_count = metrics.get(\"table.row_count\")\n",
    "```"
   ]
  },
  {
   "cell_type": "markdown",
   "id": "9afdcebd-6325-4417-a9f1-ebffa22c8c54",
   "metadata": {},
   "source": [
    "So in the last line, we see that metrics has an attribute of \"table.row_count\".  Because `table` is pretty related to `column`, our guess is that we may find some column information on metrics."
   ]
  },
  {
   "cell_type": "markdown",
   "id": "f60c9ab2-66c6-4ec9-b6d7-26a02f351df4",
   "metadata": {},
   "source": [
    "* Nope"
   ]
  },
  {
   "cell_type": "markdown",
   "id": "c5ced183-5cc0-49f9-9071-f956d0d13569",
   "metadata": {},
   "source": [
    "```bash\n",
    "metrics\n",
    "{'column_values.nonnull.unexpected_count': None, 'table.row_count': 0, 'column_values.nonnull.unexpected_values': []}\n",
    "```"
   ]
  },
  {
   "cell_type": "markdown",
   "id": "92eda217-6f67-468c-86e2-284e3a26527a",
   "metadata": {},
   "source": [
    "One thing we notice is that it looks like we have already queried the database at this point.  So this function looks like it's called after we have already tried to query our column.\n",
    "\n",
    "The bigger point is that we may not be in the right function.  There are other functions in the file, so maybe we should first look to find more information about the order of execution of these functions.\n",
    "\n",
    "Specifically, we are trying to determine -- where do we query against the database?"
   ]
  },
  {
   "cell_type": "markdown",
   "id": "45dfac23-9a92-47ae-b7b5-db4dd28b8fc8",
   "metadata": {},
   "source": [
    "### Move backwards to move forward\n",
    "\n",
    "It's not very obvious here, so maybe we can learn more about how this class is called, by viewing the class it inherits from.  Let's look for the `column_map_expectation` file."
   ]
  },
  {
   "cell_type": "markdown",
   "id": "749c6862-2868-4b7e-873f-a20fe0d5c019",
   "metadata": {},
   "source": [
    "<img src=\"./search-file.png\" width=\"60%\">"
   ]
  },
  {
   "cell_type": "markdown",
   "id": "972137ec-68b3-475d-a965-a75830aceee3",
   "metadata": {},
   "source": [
    "Ok, we can't find it from searching by the file, so let's just click on the class in line 41, by clicking `cmd + click` on `ColumnMapExpectation`.\n",
    "\n",
    "This will take us to the `expectation.py` file, and the `ColumnMapExpectation` class."
   ]
  },
  {
   "cell_type": "markdown",
   "id": "7d6909dc-855f-44b8-a256-a9a64f51ee77",
   "metadata": {},
   "source": [
    "<img src=\"./col-map-expectation.png\" width=\"60%\">"
   ]
  },
  {
   "cell_type": "markdown",
   "id": "934b034c-a36d-4e7e-a832-5bc86cfb42e8",
   "metadata": {},
   "source": [
    "This looks relevant.  So relevant that it's worth reading the docstring."
   ]
  },
  {
   "cell_type": "markdown",
   "id": "fa2381f7-3d51-40fb-9cf9-6ebbb4b6e97b",
   "metadata": {},
   "source": [
    "Ok, that provides some context -- and from here, we may even look at the base classes of BatchExpectation, and it's base class of `Expectation`.  Still it's a little tough to determine the order of operations.\n",
    "\n",
    "Let's see if there's another approach to see find the relevant functions, and see where our database is queried.  We are learning that this could occur directly in the `ExpectColumnValuesToNotBeNull` class or through one of the inherited classes.\n",
    "\n",
    "### Another approach -  Read more documentation "
   ]
  },
  {
   "cell_type": "markdown",
   "id": "c0e9ae90-3b1e-4a0e-8b6e-d89b3a80dc82",
   "metadata": {},
   "source": [
    "Ok, so we tried to understand how these methods get called and what they do by looking at the base classes, and reading some of the docstrings in the base classes, but it's still tough to understand exactly how our expectation works.  \n",
    "\n",
    "Of most important to us is, where does it actually query the database?  If we begin to find that, then we can alter the query to look for both upper case and lower case columns."
   ]
  },
  {
   "cell_type": "markdown",
   "id": "4dc3a3c3-3841-47e3-b6c6-3445626c0d1f",
   "metadata": {},
   "source": [
    "* Read more documentation"
   ]
  },
  {
   "cell_type": "markdown",
   "id": "16db48d9-df05-4119-8051-6db0f37bc367",
   "metadata": {},
   "source": [
    "What if we try to read some additional documentation. If we look back at our original `ExpectColumnValuesToNotBeNull`, we can see further down that it is a kind ColumnMapExpectation, and there is documentation on how these kinds of expectations are built.\n",
    "\n"
   ]
  },
  {
   "cell_type": "markdown",
   "id": "71963823-588a-4105-8d50-f7f41bfc6617",
   "metadata": {},
   "source": [
    "<img src=\"./read-docs.png\" width=\"60%\">"
   ]
  },
  {
   "cell_type": "markdown",
   "id": "7c32536f-d1b2-4dfe-95a4-e0c7ba964cb5",
   "metadata": {},
   "source": [
    "Let's go there to learn more.  The documentation is located [here](https://docs.greatexpectations.io/docs/guides/expectations/creating_custom_expectations/how_to_create_custom_column_map_expectations)."
   ]
  },
  {
   "cell_type": "markdown",
   "id": "d546d4c3-3b1d-4d05-aba0-15f679213f99",
   "metadata": {},
   "source": [
    "In the documentation, it provides a link to a custom template file, for creating a column map expectation.  Let's [click on that](https://github.com/great-expectations/great_expectations/blob/develop/examples/expectations/column_map_expectation_template.py)."
   ]
  },
  {
   "cell_type": "markdown",
   "id": "19a74886-5666-4004-aa98-d4190eaf31b3",
   "metadata": {},
   "source": [
    "<img src=\"./col-vals-match.png\">"
   ]
  },
  {
   "cell_type": "markdown",
   "id": "48d9e532-28e1-43c3-a213-da4ff6c2dff0",
   "metadata": {},
   "source": [
    "Ok, so this looks pretty useful. It has placeholders for what we'll need to get this ColumnMapExpection to work.  And our `ExpectColumnValuesToNotBeNull` probably follows this template.  For example, map_metric looks like it should be a string, and the metric name.  Then if we switch to the `ExpectColumnValuesToNotBeNull`, we can see that it has a `map_metric` of `\"column_values.nonnull\"`."
   ]
  },
  {
   "cell_type": "markdown",
   "id": "83b169ea-2f56-477e-a7ea-44b316bfd3f0",
   "metadata": {},
   "source": [
    "<img src=\"./map_metric.png\" width=\"60%\">"
   ]
  },
  {
   "cell_type": "markdown",
   "id": "db9ce033-587a-4d65-81a6-9723995d5ec6",
   "metadata": {},
   "source": [
    "So our template file is almost like a legend -- telling us what each piece of the file is doing."
   ]
  },
  {
   "cell_type": "markdown",
   "id": "316dd674-a1f5-4dea-bedc-417a1ee5ab04",
   "metadata": {},
   "source": [
    "Let's keep reading through it, it seems very helpful to our understanding."
   ]
  },
  {
   "cell_type": "markdown",
   "id": "0b260264-4b88-4f8d-89a1-a641835d95e6",
   "metadata": {},
   "source": [
    "At the very bottom of the file, we see the following:"
   ]
  },
  {
   "cell_type": "markdown",
   "id": "b8021d9d-1fcb-4fe3-8850-d4bf835e0cc1",
   "metadata": {},
   "source": [
    "<img src=\"./main-fn.png\">"
   ]
  },
  {
   "cell_type": "markdown",
   "id": "0f54ef88-6ea1-4313-a284-cc79ceb9c427",
   "metadata": {},
   "source": [
    "This looks important, remember that the pattern is generally to place something akin to the `run` function underneath `if __name__ == 'main'`.  The line means that we should only kick off the below line if the file is directly called.\n",
    "\n",
    "Let's see if our `ExpectColumnValuesToNotBeNull` class has this."
   ]
  },
  {
   "cell_type": "markdown",
   "id": "61ff5ab9-116d-4f06-9303-a7b00baf5964",
   "metadata": {},
   "source": [
    "> We search the `ExpectColumnValuesToNotBeNull` class for similar code, but see there are No results."
   ]
  },
  {
   "cell_type": "markdown",
   "id": "c7d9eebf-da83-40ba-9c5b-ac940a872c2a",
   "metadata": {},
   "source": [
    "<img src=\"./not-there.png\">"
   ]
  },
  {
   "cell_type": "markdown",
   "id": "27e65ed0-88b1-4be8-9727-ea4905702abc",
   "metadata": {},
   "source": [
    "Ok, we got to the end of the template, so time to continue on with reading the documentation."
   ]
  },
  {
   "cell_type": "markdown",
   "id": "42d17d6b-8766-463b-8c0a-e97ea14ecfa9",
   "metadata": {},
   "source": [
    "Further down we see the following:"
   ]
  },
  {
   "cell_type": "markdown",
   "id": "47757ced-9db5-446a-bd31-1251e1e874e7",
   "metadata": {},
   "source": [
    "> <img src=\"./relevant-doc.png\">"
   ]
  },
  {
   "cell_type": "markdown",
   "id": "50a9b0bd-24d9-4f1b-bcf9-3f508d0a6c9b",
   "metadata": {},
   "source": [
    "Ok this doesn't look so bad.  It says that this is the actual logic for the documentation."
   ]
  },
  {
   "cell_type": "markdown",
   "id": "42414913-e944-47e7-9ede-692bffbb9630",
   "metadata": {},
   "source": [
    "### Next Steps"
   ]
  },
  {
   "cell_type": "markdown",
   "id": "a7e4ea54-dc45-40ec-b4d8-d46d5be71448",
   "metadata": {},
   "source": [
    "* Compare the failing examples to the passing examples -- what are the differences?"
   ]
  },
  {
   "cell_type": "markdown",
   "id": "7ef9be38-5904-4a3a-aedb-e9d7882789e4",
   "metadata": {},
   "source": [
    "* Why is the column_condition_partial not implemented?\n",
    "\n",
    "* line 187 looks promising\n",
    "* Look at other issues related to the expectation class that are closed -- see if there are clues. "
   ]
  },
  {
   "cell_type": "code",
   "execution_count": null,
   "id": "1fa9ec64-545f-4356-b351-03e2a5300f71",
   "metadata": {},
   "outputs": [],
   "source": []
  }
 ],
 "metadata": {
  "kernelspec": {
   "display_name": "Python 3 (ipykernel)",
   "language": "python",
   "name": "python3"
  },
  "language_info": {
   "codemirror_mode": {
    "name": "ipython",
    "version": 3
   },
   "file_extension": ".py",
   "mimetype": "text/x-python",
   "name": "python",
   "nbconvert_exporter": "python",
   "pygments_lexer": "ipython3",
   "version": "3.9.12"
  }
 },
 "nbformat": 4,
 "nbformat_minor": 5
}
