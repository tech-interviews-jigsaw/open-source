{
 "cells": [
  {
   "cell_type": "markdown",
   "id": "595e5214-66c6-4602-9e4b-ddc5f7ee06e8",
   "metadata": {},
   "source": [
    "# Open Source with Great Expectations"
   ]
  },
  {
   "cell_type": "markdown",
   "id": "19f85883-145a-4226-bc33-771dbb00983d",
   "metadata": {},
   "source": [
    "### Introduction"
   ]
  },
  {
   "cell_type": "markdown",
   "id": "2a986a08-c102-4082-90f3-f4440be674ed",
   "metadata": {},
   "source": [
    "### Installation"
   ]
  },
  {
   "cell_type": "markdown",
   "id": "71d4b3f0-f45c-4a55-9d51-be29a0b63431",
   "metadata": {},
   "source": [
    "* To install we can move through the steps in the [contributing code readme](https://github.com/great-expectations/great_expectations/blob/develop/CONTRIBUTING_CODE.md)\n",
    "\n",
    "These are the relevant steps:\n",
    "\n",
    "1. Fork and clone the GE library\n",
    "2. Create a virtual environment\n",
    "3. Install the great expectations library\n",
    "* We can do so with the following\n",
    "    * `pip install -c constraints-dev.txt -e \".[test]\"`\n",
    "    * For this example, we will not need additional dependencies.\n",
    "    \n",
    "We can see that both steps 2 and 3 here are optional, so we can skip them and we should be complete."
   ]
  },
  {
   "cell_type": "markdown",
   "id": "a83f2ed4-c044-431e-8b23-287e1b5e7f7e",
   "metadata": {},
   "source": [
    "* Learning a little"
   ]
  },
  {
   "cell_type": "markdown",
   "id": "dc3ff8e1-b4ee-4288-90af-1bd4b4bd0281",
   "metadata": {},
   "source": [
    "Before moving on, just scroll down and read the section of Unit Testing expectations, or you can just [click here](https://github.com/great-expectations/great_expectations/blob/develop/CONTRIBUTING_CODE.md#unit-testing-expectations)."
   ]
  },
  {
   "cell_type": "markdown",
   "id": "5f64b647-0309-4524-a1d3-13cf3c5e9d17",
   "metadata": {},
   "source": [
    "If you read through the documentation, you'll see that the tests follow our same steps of setup and then the test:\n",
    "```python\n",
    "{\n",
    "    \"expectation_type\" : \"expect_column_max_to_be_between\",\n",
    "    \"datasets\" : [{\n",
    "        \"data\" : {...},\n",
    "        \"schemas\" : {...},\n",
    "        \"tests\" : [...]\n",
    "    }]\n",
    "}\n",
    "```\n",
    "\n",
    "This time the data and schema are the setup -- creating a sample table of data.  And the tests are check for input and a corresponding output."
   ]
  },
  {
   "cell_type": "markdown",
   "id": "c0ccf6ac-8c67-4d44-9ccc-b80ab1178f8e",
   "metadata": {},
   "source": [
    "Let's look at the example of the test provided in the documentation to make sure we understand it.\n",
    "```python\n",
    "\"tests\" : [{\n",
    "    \"title\": \"Basic negative test case\",\n",
    "    \"exact_match_out\" : false,\n",
    "    \"in\": {\n",
    "        \"column\": \"w\",\n",
    "        \"result_format\": \"BASIC\",\n",
    "        \"min_value\": null,\n",
    "        \"max_value\": 4\n",
    "    },\n",
    "    \"out\": {\n",
    "        \"success\": false,\n",
    "        \"observed_value\": 5\n",
    "    },\n",
    "    \"suppress_test_for\": [\"sqlite\"]\n",
    "},\n",
    "...\n",
    "]\n",
    "```"
   ]
  },
  {
   "cell_type": "markdown",
   "id": "2e8c8bc3-2478-42c0-b396-e36f4cffa962",
   "metadata": {},
   "source": [
    "The values in `in`, are the keyword arguments provided to the `expect_column_max_to_be_between` expectation -- so here it's expected the max is between null and 4.  The function should return `{success: false, observed_value: 5}`.  This is a good result from our `expect_column_max_to_be_between` function.  It has detected that the max value is not between null and 4, it's 5."
   ]
  },
  {
   "cell_type": "markdown",
   "id": "4a429854-6a0b-491c-a5f2-9268b0b59b9a",
   "metadata": {},
   "source": [
    "### Our first bug"
   ]
  },
  {
   "cell_type": "markdown",
   "id": "486b5e64-80c9-4485-933d-cc1c7d795912",
   "metadata": {},
   "source": [
    "Now let's move onto our first bug.  Even if we are unable to solve this bug, this will allow us to become more familiar with the great expectations codebase and solve similar bugs."
   ]
  },
  {
   "cell_type": "markdown",
   "id": "4873b35e-774b-473a-afd0-6b1918a91c19",
   "metadata": {},
   "source": [
    "Work with the upper case column names [issue here](https://github.com/great-expectations/great_expectations/issues/8619)."
   ]
  },
  {
   "cell_type": "markdown",
   "id": "0aaf3450-851f-4f85-89ba-1ff31f5611f9",
   "metadata": {},
   "source": [
    "Reading through the issue "
   ]
  },
  {
   "cell_type": "markdown",
   "id": "49c17a8d-b5c0-4e6c-be50-cc8d00328a86",
   "metadata": {},
   "source": [
    "We can copy the code to reproduce the bug, and see the issues here."
   ]
  },
  {
   "cell_type": "markdown",
   "id": "b33215d1-271c-42c5-92e2-866d6d10c71e",
   "metadata": {},
   "source": [
    "<img src=\"./failed.png\">"
   ]
  },
  {
   "cell_type": "markdown",
   "id": "e0112294-e48d-4616-9949-c24801abeb66",
   "metadata": {},
   "source": [
    "### Get to green then red"
   ]
  },
  {
   "cell_type": "markdown",
   "id": "b909860b-831e-41ad-b70c-79c38af2b5f5",
   "metadata": {},
   "source": [
    "* Then let's confirm that it really does have to do with the upper casing."
   ]
  },
  {
   "cell_type": "markdown",
   "id": "29caa40b-e010-49cd-8e28-ce77f7996a47",
   "metadata": {},
   "source": [
    "So remove the `.upper()` in the expection.\n",
    "\n",
    "```python\n",
    "expectations = {\n",
    "    \"expect_column_values_to_not_be_null\": {\"column\": column_name},\n",
    "    \"expect_column_values_to_be_null\": {\"column\": column_name},\n",
    "    \"expect_column_max_to_be_between\": {\n",
    "        \"column\": column_name.upper(),\n",
    "        \"min_value\": 1,\n",
    "        \"max_value\": 99,\n",
    "    },\n",
    "```"
   ]
  },
  {
   "cell_type": "markdown",
   "id": "9adc90d2-d542-48af-80a0-1100a528b120",
   "metadata": {},
   "source": [
    "Ok, now if we run the file again, we see that we no longer have failing tests."
   ]
  },
  {
   "cell_type": "markdown",
   "id": "f19f3672-4fc7-426e-93f7-43672f8afa12",
   "metadata": {},
   "source": [
    "<img src=\"./none-failing.png\">"
   ]
  },
  {
   "cell_type": "markdown",
   "id": "5fd0b1c1-6e71-4038-9c24-3f74631cb094",
   "metadata": {},
   "source": [
    "### Begin Work"
   ]
  },
  {
   "cell_type": "markdown",
   "id": "3477f8a3-22d4-4d10-ae3f-c506685b3118",
   "metadata": {},
   "source": [
    "1. Learn Through Exploration\n",
    "\n",
    "<img src=\"./validator-validate-exp.png\" width=\"60%\">"
   ]
  },
  {
   "cell_type": "markdown",
   "id": "f65564c5-b6e4-4857-a6a8-2ceea6c97ec1",
   "metadata": {},
   "source": [
    "2. Learn through the documentation\n",
    "\n",
    "* Look at the quickstart\n",
    "* Look at custom implementation of a validator\n",
    "    * Maybe this will tell us a validation works\n",
    "    \n",
    "* Search the expecation gallery\n",
    "    * [Link to expectation](https://greatexpectations.io/expectations/expect_column_values_to_not_be_null?filterType=Backend%20support&gotoPage=1&showFilters=true&viewType=Summary)"
   ]
  },
  {
   "cell_type": "markdown",
   "id": "d2b4060e-34b6-4af8-a71c-16d38752f00b",
   "metadata": {},
   "source": [
    "<img src=\"./core-col-map-expect.png\">"
   ]
  },
  {
   "cell_type": "markdown",
   "id": "7f2489b8-95d1-4aa9-807c-06db3bcaae0f",
   "metadata": {},
   "source": [
    "* So let's look for the ColumnMapExpectation."
   ]
  },
  {
   "cell_type": "markdown",
   "id": "85bc49ff-d127-4c36-9c5d-722bc6184764",
   "metadata": {},
   "source": [
    "<img src=\"./col-map-exp.png\">"
   ]
  },
  {
   "cell_type": "markdown",
   "id": "d43c4961-2c62-4349-9470-3cb7bbddd12b",
   "metadata": {},
   "source": [
    "We do this by pressing `cmd + p`."
   ]
  },
  {
   "cell_type": "markdown",
   "id": "a6835d99-6f4c-4509-8d08-d21b6519bb97",
   "metadata": {},
   "source": [
    "And then loking through the list of files, the ones in the `great_expectations/expectations` look most relevant.  "
   ]
  },
  {
   "cell_type": "markdown",
   "id": "dfec4c11-c6ac-428b-b66a-0d7070e8d3cb",
   "metadata": {},
   "source": [
    "So we open up those files, and potentially could go through them one by one.  But neither of them look exactly right -- let's take another look at the documentation."
   ]
  },
  {
   "cell_type": "markdown",
   "id": "39f10e63-60ae-4e55-9fcc-d26bafc2c4d7",
   "metadata": {},
   "source": [
    "<img src=\"./core-col-map-expect.png\">"
   ]
  },
  {
   "cell_type": "markdown",
   "id": "2ea8603a-ffe6-4703-8e27-2fcfa7df3bc4",
   "metadata": {},
   "source": [
    "It says that it should be a `Core ColumnMapExpectation`.  This seems like a pretty well defined class, which we do not see."
   ]
  },
  {
   "cell_type": "markdown",
   "id": "f8db8285-2fbb-4051-8b10-f036622e5a59",
   "metadata": {},
   "source": [
    "<img src=\"./core-expect.png\">"
   ]
  },
  {
   "cell_type": "markdown",
   "id": "5948e900-3960-42a7-82a1-5d7a1ec3a5ff",
   "metadata": {},
   "source": [
    "But wait, look at the codebase, there's a folder called `core` staring right at us.  Let's look inside."
   ]
  },
  {
   "cell_type": "markdown",
   "id": "4b91feaf-ef36-4cec-ae16-6770731a3873",
   "metadata": {},
   "source": [
    "<img src=\"./core-tests.png\" width=\"60%\">"
   ]
  },
  {
   "cell_type": "markdown",
   "id": "7d119704-a369-4a9a-9ce8-e9f4003e9df5",
   "metadata": {},
   "source": [
    "Oh this looks interesting.  So let's see if there is a file with the name of the test we are looking for: `expect_column_values_to_not_be_null`."
   ]
  },
  {
   "cell_type": "markdown",
   "id": "db73dd47-432d-42a7-9b00-db1c665b0c78",
   "metadata": {},
   "source": [
    "There is."
   ]
  },
  {
   "cell_type": "markdown",
   "id": "eafaec05-6281-4249-98c9-16cbecdc30a8",
   "metadata": {},
   "source": [
    "* Can ChatGPT figure it out?"
   ]
  },
  {
   "cell_type": "markdown",
   "id": "b95a39f7-062e-4dd2-9105-749e7cec3b3b",
   "metadata": {},
   "source": [
    "I asked ChatGPT, to help, copying and pasting the file into GPT-4:"
   ]
  },
  {
   "cell_type": "markdown",
   "id": "9717e33c-b961-4964-aa71-72caeea55854",
   "metadata": {},
   "source": [
    "> <img src=\"./ask-chatgpt.png\">"
   ]
  },
  {
   "cell_type": "markdown",
   "id": "2fc99b35-1236-4a5a-9bba-f54d1c561702",
   "metadata": {},
   "source": [
    "It recommended code changes, but they only broke the code further. Now our code broke before we got to our failing test.  Looks like we need to move through this alone.  "
   ]
  },
  {
   "cell_type": "markdown",
   "id": "5c30f398-6857-4f92-9c28-2623cc57f3bd",
   "metadata": {},
   "source": [
    "### Making a hypothesis"
   ]
  },
  {
   "cell_type": "markdown",
   "id": "98c35a96-a1ff-4526-935a-d7b9720450ca",
   "metadata": {},
   "source": [
    "* It looks like the code to change could be the validate method.  To see if it may be relevant, place a breakpoint.  \n",
    "\n",
    "> If we don't hit the breakpoint, we know the code is irrelevant, and we need to look elsewhere."
   ]
  },
  {
   "cell_type": "markdown",
   "id": "c3d8eff5-8c8d-4eb5-9b59-7995c8b11075",
   "metadata": {},
   "source": [
    "<img src=\"./hit-breakpoint.png\" width=\"70%\">"
   ]
  },
  {
   "cell_type": "markdown",
   "id": "64b7dc1e-34fd-4b44-9a8b-f9464acc8228",
   "metadata": {},
   "source": [
    "* Place in a breakpoint in the first line below the function, and then run our `test.py` file again to see if we hit it"
   ]
  },
  {
   "cell_type": "markdown",
   "id": "81ef5b96-290c-4c6c-83f0-b25f896a02c3",
   "metadata": {},
   "source": [
    "<img src=\"./breakpoint-hit.png\" width=\"60%\">"
   ]
  },
  {
   "cell_type": "markdown",
   "id": "cbcc9dab-2ed0-4184-968d-ce6e5d568933",
   "metadata": {},
   "source": [
    "### Look Around"
   ]
  },
  {
   "cell_type": "markdown",
   "id": "00ac9306-5130-4476-b8e8-a94c17b33c13",
   "metadata": {},
   "source": [
    "Now, we seem to be in the right ballpark, but the next step **is not** to start fixing things.  Instead, it's to look around. "
   ]
  },
  {
   "cell_type": "markdown",
   "id": "2b1b8b9a-612c-44a7-a068-16db112d1ed8",
   "metadata": {},
   "source": [
    "We can start with the parameters to the function: `configuration`, `metrics`, `runtime_configuration` and execution engine."
   ]
  },
  {
   "cell_type": "markdown",
   "id": "078e63bb-0aee-49f1-ba77-4068da3f1720",
   "metadata": {},
   "source": [
    "Which of these look most relevant?  Well remember, we are probably looking for the column name."
   ]
  },
  {
   "cell_type": "markdown",
   "id": "3f29a4ae-3a4e-4da8-a6a2-ca30aa3b9229",
   "metadata": {},
   "source": [
    "And if you look further down in the function, you can see the following:"
   ]
  },
  {
   "cell_type": "markdown",
   "id": "02b3af22-3aac-492c-aef3-91b1bb6516e2",
   "metadata": {},
   "source": [
    "```python\n",
    "result_format = self.get_result_format(\n",
    "            configuration=configuration, runtime_configuration=runtime_configuration\n",
    "        )\n",
    "        mostly = self.get_success_kwargs().get(\n",
    "            \"mostly\", self.default_kwarg_values.get(\"mostly\")\n",
    "        )\n",
    "        total_count = metrics.get(\"table.row_count\")\n",
    "```"
   ]
  },
  {
   "cell_type": "markdown",
   "id": "9afdcebd-6325-4417-a9f1-ebffa22c8c54",
   "metadata": {},
   "source": [
    "So in the last line, we see that metrics has an attribute of \"table.row_count\".  Because `table` is pretty related to `column`, our guess is that we may find some column information on metrics."
   ]
  },
  {
   "cell_type": "markdown",
   "id": "f60c9ab2-66c6-4ec9-b6d7-26a02f351df4",
   "metadata": {},
   "source": [
    "* Nope"
   ]
  },
  {
   "cell_type": "markdown",
   "id": "c5ced183-5cc0-49f9-9071-f956d0d13569",
   "metadata": {},
   "source": [
    "```bash\n",
    "metrics\n",
    "{'column_values.nonnull.unexpected_count': None, 'table.row_count': 0, 'column_values.nonnull.unexpected_values': []}\n",
    "```"
   ]
  },
  {
   "cell_type": "markdown",
   "id": "92eda217-6f67-468c-86e2-284e3a26527a",
   "metadata": {},
   "source": [
    "One thing we notice is that it looks like we have already queried the database at this point.  So this function looks like it's called after we have already tried to query our column.\n",
    "\n",
    "The bigger point is that we may not be in the right function.  There are other functions in the file, so maybe we should first look to find more information about the order of execution of these functions.\n",
    "\n",
    "Specifically, we are trying to determine -- where do we query against the database?"
   ]
  },
  {
   "cell_type": "markdown",
   "id": "45dfac23-9a92-47ae-b7b5-db4dd28b8fc8",
   "metadata": {},
   "source": [
    "### Move backwards to move forward\n",
    "\n",
    "It's not very obvious here, so maybe we can learn more about how this class is called, by viewing the class it inherits from.  Let's look for the `column_map_expectation` file."
   ]
  },
  {
   "cell_type": "markdown",
   "id": "749c6862-2868-4b7e-873f-a20fe0d5c019",
   "metadata": {},
   "source": [
    "<img src=\"./search-file.png\" width=\"60%\">"
   ]
  },
  {
   "cell_type": "markdown",
   "id": "972137ec-68b3-475d-a965-a75830aceee3",
   "metadata": {},
   "source": [
    "Ok, we can't find it from searching by the file, so let's just click on the class in line 41, by clicking `cmd + click` on `ColumnMapExpectation`.\n",
    "\n",
    "This will take us to the `expectation.py` file, and the `ColumnMapExpectation` class."
   ]
  },
  {
   "cell_type": "markdown",
   "id": "7d6909dc-855f-44b8-a256-a9a64f51ee77",
   "metadata": {},
   "source": [
    "<img src=\"./col-map-expectation.png\" width=\"60%\">"
   ]
  },
  {
   "cell_type": "markdown",
   "id": "934b034c-a36d-4e7e-a832-5bc86cfb42e8",
   "metadata": {},
   "source": [
    "This looks relevant.  So relevant that it's worth reading the docstring."
   ]
  },
  {
   "cell_type": "markdown",
   "id": "fa2381f7-3d51-40fb-9cf9-6ebbb4b6e97b",
   "metadata": {},
   "source": [
    "Ok, that provides some context -- and from here, we may even look at the base classes of BatchExpectation, and it's base class of `Expectation`.  Still it's a little tough to determine the order of operations.\n",
    "\n",
    "Let's see if there's another approach to see find the relevant functions, and see where our database is queried.  We are learning that this could occur directly in the `ExpectColumnValuesToNotBeNull` class or through one of the inherited classes.\n",
    "\n",
    "### Another approach -  Read more documentation "
   ]
  },
  {
   "cell_type": "markdown",
   "id": "c0e9ae90-3b1e-4a0e-8b6e-d89b3a80dc82",
   "metadata": {},
   "source": [
    "Ok, so we tried to understand how these methods get called and what they do by looking at the base classes, and reading some of the docstrings in the base classes, but it's still tough to understand exactly how our expectation works.  \n",
    "\n",
    "Of most important to us is, where does it actually query the database?  If we begin to find that, then we can alter the query to look for both upper case and lower case columns."
   ]
  },
  {
   "cell_type": "markdown",
   "id": "4dc3a3c3-3841-47e3-b6c6-3445626c0d1f",
   "metadata": {},
   "source": [
    "* Read more documentation"
   ]
  },
  {
   "cell_type": "markdown",
   "id": "16db48d9-df05-4119-8051-6db0f37bc367",
   "metadata": {},
   "source": [
    "What if we try to read some additional documentation. If we look back at our original `ExpectColumnValuesToNotBeNull`, we can see further down that it is a kind ColumnMapExpectation, and there is documentation on how these kinds of expectations are built.\n",
    "\n"
   ]
  },
  {
   "cell_type": "markdown",
   "id": "71963823-588a-4105-8d50-f7f41bfc6617",
   "metadata": {},
   "source": [
    "<img src=\"./read-docs.png\" width=\"60%\">"
   ]
  },
  {
   "cell_type": "markdown",
   "id": "7c32536f-d1b2-4dfe-95a4-e0c7ba964cb5",
   "metadata": {},
   "source": [
    "Let's go there to learn more.  The documentation is located [here](https://docs.greatexpectations.io/docs/guides/expectations/creating_custom_expectations/how_to_create_custom_column_map_expectations)."
   ]
  },
  {
   "cell_type": "markdown",
   "id": "d546d4c3-3b1d-4d05-aba0-15f679213f99",
   "metadata": {},
   "source": [
    "In the documentation, it provides a link to a custom template file, for creating a column map expectation.  Let's [click on that](https://github.com/great-expectations/great_expectations/blob/develop/examples/expectations/column_map_expectation_template.py)."
   ]
  },
  {
   "cell_type": "markdown",
   "id": "19a74886-5666-4004-aa98-d4190eaf31b3",
   "metadata": {},
   "source": [
    "<img src=\"./col-vals-match.png\">"
   ]
  },
  {
   "cell_type": "markdown",
   "id": "48d9e532-28e1-43c3-a213-da4ff6c2dff0",
   "metadata": {},
   "source": [
    "Ok, so this looks pretty useful. It has placeholders for what we'll need to get this ColumnMapExpection to work.  And our `ExpectColumnValuesToNotBeNull` probably follows this template.  For example, map_metric looks like it should be a string, and the metric name.  Then if we switch to the `ExpectColumnValuesToNotBeNull`, we can see that it has a `map_metric` of `\"column_values.nonnull\"`."
   ]
  },
  {
   "cell_type": "markdown",
   "id": "83b169ea-2f56-477e-a7ea-44b316bfd3f0",
   "metadata": {},
   "source": [
    "<img src=\"./map_metric.png\" width=\"60%\">"
   ]
  },
  {
   "cell_type": "markdown",
   "id": "db9ce033-587a-4d65-81a6-9723995d5ec6",
   "metadata": {},
   "source": [
    "So our template file is almost like a legend -- telling us what each piece of the file is doing."
   ]
  },
  {
   "cell_type": "markdown",
   "id": "316dd674-a1f5-4dea-bedc-417a1ee5ab04",
   "metadata": {},
   "source": [
    "Let's keep reading through it, it seems very helpful to our understanding."
   ]
  },
  {
   "cell_type": "markdown",
   "id": "0b260264-4b88-4f8d-89a1-a641835d95e6",
   "metadata": {},
   "source": [
    "At the very bottom of the file, we see the following:"
   ]
  },
  {
   "cell_type": "markdown",
   "id": "b8021d9d-1fcb-4fe3-8850-d4bf835e0cc1",
   "metadata": {},
   "source": [
    "<img src=\"./main-fn.png\">"
   ]
  },
  {
   "cell_type": "markdown",
   "id": "0f54ef88-6ea1-4313-a284-cc79ceb9c427",
   "metadata": {},
   "source": [
    "This looks important, remember that the pattern is generally to place something akin to the `run` function underneath `if __name__ == 'main'`.  The line means that we should only kick off the below line if the file is directly called.\n",
    "\n",
    "Let's see if our `ExpectColumnValuesToNotBeNull` class has this."
   ]
  },
  {
   "cell_type": "markdown",
   "id": "61ff5ab9-116d-4f06-9303-a7b00baf5964",
   "metadata": {},
   "source": [
    "> We search the `ExpectColumnValuesToNotBeNull` class for similar code, but see there are No results."
   ]
  },
  {
   "cell_type": "markdown",
   "id": "c7d9eebf-da83-40ba-9c5b-ac940a872c2a",
   "metadata": {},
   "source": [
    "<img src=\"./not-there.png\">"
   ]
  },
  {
   "cell_type": "markdown",
   "id": "27e65ed0-88b1-4be8-9727-ea4905702abc",
   "metadata": {},
   "source": [
    "Ok, we got to the end of the template, so time to continue on with reading the documentation."
   ]
  },
  {
   "cell_type": "markdown",
   "id": "42d17d6b-8766-463b-8c0a-e97ea14ecfa9",
   "metadata": {},
   "source": [
    "Further down we see the following:"
   ]
  },
  {
   "cell_type": "markdown",
   "id": "47757ced-9db5-446a-bd31-1251e1e874e7",
   "metadata": {},
   "source": [
    "> <img src=\"./relevant-doc.png\">"
   ]
  },
  {
   "cell_type": "markdown",
   "id": "50a9b0bd-24d9-4f1b-bcf9-3f508d0a6c9b",
   "metadata": {},
   "source": [
    "Ok this doesn't look so bad.  It says that this is the actual logic for the documentation."
   ]
  },
  {
   "cell_type": "markdown",
   "id": "42414913-e944-47e7-9ede-692bffbb9630",
   "metadata": {},
   "source": [
    "### Next Steps"
   ]
  },
  {
   "cell_type": "markdown",
   "id": "a7e4ea54-dc45-40ec-b4d8-d46d5be71448",
   "metadata": {},
   "source": [
    "* Compare the failing examples to the passing examples -- what are the differences?"
   ]
  },
  {
   "cell_type": "markdown",
   "id": "7ef9be38-5904-4a3a-aedb-e9d7882789e4",
   "metadata": {},
   "source": [
    "* Why is the column_condition_partial not implemented?\n",
    "\n",
    "* line 187 looks promising\n",
    "* Look at other issues related to the expectation class that are closed -- see if there are clues. "
   ]
  },
  {
   "cell_type": "code",
   "execution_count": null,
   "id": "1fa9ec64-545f-4356-b351-03e2a5300f71",
   "metadata": {},
   "outputs": [],
   "source": []
  }
 ],
 "metadata": {
  "kernelspec": {
   "display_name": "Python 3 (ipykernel)",
   "language": "python",
   "name": "python3"
  },
  "language_info": {
   "codemirror_mode": {
    "name": "ipython",
    "version": 3
   },
   "file_extension": ".py",
   "mimetype": "text/x-python",
   "name": "python",
   "nbconvert_exporter": "python",
   "pygments_lexer": "ipython3",
   "version": "3.9.12"
  }
 },
 "nbformat": 4,
 "nbformat_minor": 5
}
