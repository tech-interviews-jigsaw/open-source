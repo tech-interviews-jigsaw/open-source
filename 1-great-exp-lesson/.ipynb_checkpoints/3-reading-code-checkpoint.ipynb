{
 "cells": [
  {
   "cell_type": "markdown",
   "id": "595e5214-66c6-4602-9e4b-ddc5f7ee06e8",
   "metadata": {},
   "source": [
    "# Reading Code"
   ]
  },
  {
   "cell_type": "markdown",
   "id": "19f85883-145a-4226-bc33-771dbb00983d",
   "metadata": {},
   "source": [
    "### Introduction"
   ]
  },
  {
   "cell_type": "markdown",
   "id": "be15f5fb-74a3-4696-9b89-1d940012a65a",
   "metadata": {},
   "source": [
    "So in the last lesson, we primarily saw mechanisms for exploring our codebase.  We ended by finding a potentially relevant file.  Let's see if we can better understand it to see where it may be querying the database, and executing the validation."
   ]
  },
  {
   "cell_type": "markdown",
   "id": "5c30f398-6857-4f92-9c28-2623cc57f3bd",
   "metadata": {},
   "source": [
    "### Diving into our Expectation"
   ]
  },
  {
   "cell_type": "markdown",
   "id": "965522ff-d8e5-463d-af35-c83698795746",
   "metadata": {},
   "source": [
    "Let's look through the `core/expect_column_values_to_not_be_null.py` file, looking for relevant code.  A good mechanism is to look for the function names to get a sense of each chunk of code. \n",
    "\n",
    "It looks like one relevant function may be the `validate` method.  To see if it may be relevant, let's place a breakpoint.  "
   ]
  },
  {
   "cell_type": "markdown",
   "id": "98c35a96-a1ff-4526-935a-d7b9720450ca",
   "metadata": {},
   "source": [
    "If we don't hit the breakpoint, we know the code is irrelevant, and we need to look elsewhere.  But if we do hit the breakpoint, it **does not** necessarily mean we are close.  It just means, we *might* be close."
   ]
  },
  {
   "cell_type": "markdown",
   "id": "c3d8eff5-8c8d-4eb5-9b59-7995c8b11075",
   "metadata": {},
   "source": [
    "<img src=\"./hit-breakpoint.png\" width=\"70%\">"
   ]
  },
  {
   "cell_type": "markdown",
   "id": "64b7dc1e-34fd-4b44-9a8b-f9464acc8228",
   "metadata": {},
   "source": [
    "Always place the breakpoint in the *first line* below the function you want to test.  This way you don't risk the breakpoint avoiding a specific line for say an if clause.  We then run our `test.py` file again to see if we hit it."
   ]
  },
  {
   "cell_type": "markdown",
   "id": "81ef5b96-290c-4c6c-83f0-b25f896a02c3",
   "metadata": {},
   "source": [
    "<img src=\"./breakpoint-hit.png\" width=\"60%\">"
   ]
  },
  {
   "cell_type": "code",
   "execution_count": null,
   "id": "a05df67f-3567-4336-8537-590fd8232a07",
   "metadata": {},
   "outputs": [],
   "source": []
  },
  {
   "cell_type": "markdown",
   "id": "cbcc9dab-2ed0-4184-968d-ce6e5d568933",
   "metadata": {},
   "source": [
    "### Look Around"
   ]
  },
  {
   "cell_type": "markdown",
   "id": "00ac9306-5130-4476-b8e8-a94c17b33c13",
   "metadata": {},
   "source": [
    "Now, we seem to be in the right ballpark, but the next step **is not** to start fixing things.  Instead, it's to look around. "
   ]
  },
  {
   "cell_type": "markdown",
   "id": "2b1b8b9a-612c-44a7-a068-16db112d1ed8",
   "metadata": {},
   "source": [
    "We can start with the parameters to the function: `configuration`, `metrics`, `runtime_configuration` and execution engine."
   ]
  },
  {
   "cell_type": "markdown",
   "id": "078e63bb-0aee-49f1-ba77-4068da3f1720",
   "metadata": {},
   "source": [
    "Which of these look most relevant?  Well remember, we are probably looking for the column name."
   ]
  },
  {
   "cell_type": "markdown",
   "id": "3f29a4ae-3a4e-4da8-a6a2-ca30aa3b9229",
   "metadata": {},
   "source": [
    "And if you look further down in the function, you can see the following:"
   ]
  },
  {
   "cell_type": "markdown",
   "id": "02b3af22-3aac-492c-aef3-91b1bb6516e2",
   "metadata": {},
   "source": [
    "```python\n",
    "result_format = self.get_result_format(\n",
    "            configuration=configuration, runtime_configuration=runtime_configuration\n",
    "        )\n",
    "        mostly = self.get_success_kwargs().get(\n",
    "            \"mostly\", self.default_kwarg_values.get(\"mostly\")\n",
    "        )\n",
    "        total_count = metrics.get(\"table.row_count\")\n",
    "```"
   ]
  },
  {
   "cell_type": "markdown",
   "id": "9afdcebd-6325-4417-a9f1-ebffa22c8c54",
   "metadata": {},
   "source": [
    "So in the last line, we see that metrics has an attribute of \"table.row_count\".  Because `table` is pretty related to `column`, our guess is that we may find some column information on metrics..."
   ]
  },
  {
   "cell_type": "markdown",
   "id": "f60c9ab2-66c6-4ec9-b6d7-26a02f351df4",
   "metadata": {},
   "source": [
    "Nope."
   ]
  },
  {
   "cell_type": "markdown",
   "id": "5473226e-4479-433f-89fc-138f67c77156",
   "metadata": {},
   "source": [
    "Instead, when we type metrics into our terminal we see the following:"
   ]
  },
  {
   "cell_type": "markdown",
   "id": "c5ced183-5cc0-49f9-9071-f956d0d13569",
   "metadata": {},
   "source": [
    "```bash\n",
    "metrics\n",
    "{'column_values.nonnull.unexpected_count': None, 'table.row_count': 0, 'column_values.nonnull.unexpected_values': []}\n",
    "```"
   ]
  },
  {
   "cell_type": "markdown",
   "id": "92eda217-6f67-468c-86e2-284e3a26527a",
   "metadata": {},
   "source": [
    "One thing we notice is that it looks like we have already queried the database at this point.  So this function looks like it's called after we have already tried to query our column.\n",
    "\n",
    "So we may not be in the right function.  There are other functions in the file, so maybe we should first look to find more information about the order of execution of these functions.\n",
    "\n",
    "Remember, we are trying to determine -- where do we query against the database?"
   ]
  },
  {
   "cell_type": "markdown",
   "id": "45dfac23-9a92-47ae-b7b5-db4dd28b8fc8",
   "metadata": {},
   "source": [
    "### Move backwards to move forward\n",
    "\n",
    "It's not very obvious in the current file.  For example, it would be nice if there were something equivalent to a `run` function, or even a `__init__` function so we can determine an order of operations.  But none appear to be there.\n",
    "\n",
    "So maybe we can learn more about how this class is called by viewing the class it inherits from: `ColumnMapExpectation`.  Let's look for the `column_map_expectation` file."
   ]
  },
  {
   "cell_type": "markdown",
   "id": "749c6862-2868-4b7e-873f-a20fe0d5c019",
   "metadata": {},
   "source": [
    "<img src=\"./search-file.png\" width=\"60%\">"
   ]
  },
  {
   "cell_type": "markdown",
   "id": "972137ec-68b3-475d-a965-a75830aceee3",
   "metadata": {},
   "source": [
    "Unfortunately, we can't find it from searching by the file, so let's just click on the class, by clicking `cmd + click` on `ColumnMapExpectation`.\n",
    "\n",
    "This will take us to the `expectation.py` file, and the `ColumnMapExpectation` class."
   ]
  },
  {
   "cell_type": "markdown",
   "id": "7d6909dc-855f-44b8-a256-a9a64f51ee77",
   "metadata": {},
   "source": [
    "<img src=\"./col-map-expectation.png\" width=\"60%\">"
   ]
  },
  {
   "cell_type": "markdown",
   "id": "934b034c-a36d-4e7e-a832-5bc86cfb42e8",
   "metadata": {},
   "source": [
    "This looks relevant.  So relevant that it's worth reading the docstring."
   ]
  },
  {
   "cell_type": "markdown",
   "id": "fa2381f7-3d51-40fb-9cf9-6ebbb4b6e97b",
   "metadata": {},
   "source": [
    "Ok, that provides some context -- and from here, we may even look at the base class of `BatchExpectation`, and it's base class of `Expectation`.  Still it's a little tough to determine where the database is queried.  We're about at the end of the rope of understanding by reading the code.  \n",
    "\n",
    "So let's see if there's another approach to see find the relevant functions, and see where our database is queried.  We know that it could potentially occur directly in `ExpectColumnValuesToNotBeNull` class or through one of the inherited classes -- but it's hard to see it by reading the code alone."
   ]
  },
  {
   "cell_type": "markdown",
   "id": "7573a8ba-fdf1-4f61-8650-ca5fe8d35521",
   "metadata": {},
   "source": [
    "### Another approach -  Back to documentation "
   ]
  },
  {
   "cell_type": "markdown",
   "id": "c0e9ae90-3b1e-4a0e-8b6e-d89b3a80dc82",
   "metadata": {},
   "source": [
    "Ok, so we tried to understand how these methods get called and what they do by looking at the base classes, and reading some of the docstrings in the base classes, but it's still tough to understand exactly how our expectation works.  So back to some documentation."
   ]
  },
  {
   "cell_type": "markdown",
   "id": "16db48d9-df05-4119-8051-6db0f37bc367",
   "metadata": {},
   "source": [
    " If we look back at our original `ExpectColumnValuesToNotBeNull`, class we can see further down the docstring says it is a kind ColumnMapExpectation, and there is documentation on how these kinds of expectations are built."
   ]
  },
  {
   "cell_type": "markdown",
   "id": "71963823-588a-4105-8d50-f7f41bfc6617",
   "metadata": {},
   "source": [
    "<img src=\"./read-docs.png\" width=\"60%\">"
   ]
  },
  {
   "cell_type": "markdown",
   "id": "7c32536f-d1b2-4dfe-95a4-e0c7ba964cb5",
   "metadata": {},
   "source": [
    "Let's go there to learn more.  The documentation is located [here](https://docs.greatexpectations.io/docs/guides/expectations/creating_custom_expectations/how_to_create_custom_column_map_expectations)."
   ]
  },
  {
   "cell_type": "markdown",
   "id": "d546d4c3-3b1d-4d05-aba0-15f679213f99",
   "metadata": {},
   "source": [
    "In the documentation, it provides a link to a custom template file, for creating a column map expectation.  Let's [click on that](https://github.com/great-expectations/great_expectations/blob/develop/examples/expectations/column_map_expectation_template.py)."
   ]
  },
  {
   "cell_type": "markdown",
   "id": "19a74886-5666-4004-aa98-d4190eaf31b3",
   "metadata": {},
   "source": [
    "<img src=\"./col-vals-match.png\">"
   ]
  },
  {
   "cell_type": "markdown",
   "id": "48d9e532-28e1-43c3-a213-da4ff6c2dff0",
   "metadata": {},
   "source": [
    "Ok, so this looks pretty useful. It has placeholders for what we'll need to get this ColumnMapExpection to work.  And our `ExpectColumnValuesToNotBeNull` probably follows this template.  For example, map_metric looks like it should be a string, and the metric name.  Then if we switch to the `ExpectColumnValuesToNotBeNull`, we can see that it has a `map_metric` of `\"column_values.nonnull\"`."
   ]
  },
  {
   "cell_type": "markdown",
   "id": "83b169ea-2f56-477e-a7ea-44b316bfd3f0",
   "metadata": {},
   "source": [
    "<img src=\"./map_metric.png\" width=\"60%\">"
   ]
  },
  {
   "cell_type": "markdown",
   "id": "db9ce033-587a-4d65-81a6-9723995d5ec6",
   "metadata": {},
   "source": [
    "So our template file is almost like a legend -- telling us what each piece of the file is doing."
   ]
  },
  {
   "cell_type": "markdown",
   "id": "316dd674-a1f5-4dea-bedc-417a1ee5ab04",
   "metadata": {},
   "source": [
    "Let's keep reading through it, it seems very helpful to our understanding."
   ]
  },
  {
   "cell_type": "markdown",
   "id": "0b260264-4b88-4f8d-89a1-a641835d95e6",
   "metadata": {},
   "source": [
    "At the very bottom of the file, we see the following:"
   ]
  },
  {
   "cell_type": "markdown",
   "id": "b8021d9d-1fcb-4fe3-8850-d4bf835e0cc1",
   "metadata": {},
   "source": [
    "<img src=\"./main-fn.png\">"
   ]
  },
  {
   "cell_type": "markdown",
   "id": "0f54ef88-6ea1-4313-a284-cc79ceb9c427",
   "metadata": {},
   "source": [
    "This looks important, remember that the pattern is generally to place something akin to the `run` function underneath `if __name__ == 'main'`.  The line means that we should only kick off the below line if the file is directly called.\n",
    "\n",
    "Let's see if our `ExpectColumnValuesToNotBeNull` class has this."
   ]
  },
  {
   "cell_type": "markdown",
   "id": "61ff5ab9-116d-4f06-9303-a7b00baf5964",
   "metadata": {},
   "source": [
    "> We search the `ExpectColumnValuesToNotBeNull` class for similar code, but see there are **no results**."
   ]
  },
  {
   "cell_type": "markdown",
   "id": "c7d9eebf-da83-40ba-9c5b-ac940a872c2a",
   "metadata": {},
   "source": [
    "<img src=\"./not-there.png\">"
   ]
  },
  {
   "cell_type": "markdown",
   "id": "27e65ed0-88b1-4be8-9727-ea4905702abc",
   "metadata": {},
   "source": [
    "Ok, we looked at the template, now it's time to continue on with reading the documentation."
   ]
  },
  {
   "cell_type": "markdown",
   "id": "42d17d6b-8766-463b-8c0a-e97ea14ecfa9",
   "metadata": {},
   "source": [
    "Further down we see the following:"
   ]
  },
  {
   "cell_type": "markdown",
   "id": "47757ced-9db5-446a-bd31-1251e1e874e7",
   "metadata": {},
   "source": [
    "> <img src=\"./relevant-doc.png\">"
   ]
  },
  {
   "cell_type": "markdown",
   "id": "50a9b0bd-24d9-4f1b-bcf9-3f508d0a6c9b",
   "metadata": {},
   "source": [
    "Ok this doesn't look so bad.  It says that this is where the actual logic for the expectation belongs."
   ]
  },
  {
   "cell_type": "markdown",
   "id": "8d12f589-bf58-4623-a7e5-3887ebbf1dd3",
   "metadata": {},
   "source": [
    "Let's look at this section."
   ]
  },
  {
   "cell_type": "markdown",
   "id": "5394583d-63d0-4911-9d6c-bf2c40708960",
   "metadata": {},
   "source": [
    "<img src=\"./bus-logic.png\" width=\"60%\">"
   ]
  },
  {
   "cell_type": "markdown",
   "id": "0632ba2f-2045-44fd-a994-545e2b31a56c",
   "metadata": {},
   "source": [
    "So here it says that there should be a `column_condition_partial` in the expectation.  But if we press `cmd + f` and search the file for that code, none is to be found.\n",
    "\n",
    "Is great expectations lying to us?  Let's search the codebase to see if this function exists elsewhere."
   ]
  },
  {
   "cell_type": "markdown",
   "id": "2062a379-9896-4393-a520-9516a8a6df60",
   "metadata": {},
   "source": [
    "<img src=\"./condition-partial.png\" width=\"60%\">"
   ]
  },
  {
   "cell_type": "markdown",
   "id": "07d3192f-2cf4-4198-a69b-1151902c61be",
   "metadata": {},
   "source": [
    "Ok, so it does look like other parts of the codebase implement the logic here -- just not this particular file.\n",
    "\n",
    "Time to regroup."
   ]
  },
  {
   "cell_type": "markdown",
   "id": "42414913-e944-47e7-9ede-692bffbb9630",
   "metadata": {},
   "source": [
    "### Next Steps"
   ]
  },
  {
   "cell_type": "markdown",
   "id": "d2f85470-a4bb-4a87-98af-f7da81340ed1",
   "metadata": {},
   "source": [
    "We still have a couple of techniques we can try next.  For example, we can: "
   ]
  },
  {
   "cell_type": "markdown",
   "id": "a7e4ea54-dc45-40ec-b4d8-d46d5be71448",
   "metadata": {},
   "source": [
    "* Go back to the test.py file, and compare the failing examples to the passing examples -- why do some expectations work and others fail?\n",
    "\n",
    "* Why is the `column_condition_partial` not implemented?  Is there an alternative or does it inherit this behavior from a base class?\n",
    "\n",
    "* If you look at this section of the `expect_column_values_not_to_be_null` file, it looks relevant: \n",
    "\n",
    "```python\n",
    "if params[\"row_condition\"] is not None:\n",
    "            (\n",
    "                conditional_template_str,\n",
    "                conditional_params,\n",
    "            ) = parse_row_condition_string_pandas_engine(params[\"row_condition\"])\n",
    "            template_str = f\"{conditional_template_str}, then {template_str}\"\n",
    "            \n",
    "            params.update(conditional_params)\n",
    "```"
   ]
  },
  {
   "cell_type": "markdown",
   "id": "97c1d009-43da-4fd1-9a95-20dc2ca6b76e",
   "metadata": {},
   "source": [
    "Maybe we can explore this further."
   ]
  },
  {
   "cell_type": "markdown",
   "id": "7ef9be38-5904-4a3a-aedb-e9d7882789e4",
   "metadata": {},
   "source": [
    "* Or, we can look at other issues related to the expectation class that are closed -- see if there are clues. "
   ]
  },
  {
   "cell_type": "markdown",
   "id": "26fe4038-c41c-4aa7-a7b4-7114674ce630",
   "metadata": {},
   "source": [
    "### The best approach"
   ]
  },
  {
   "cell_type": "markdown",
   "id": "e0b25334-f5b2-4794-8ee6-ed2ceea46b90",
   "metadata": {},
   "source": [
    "However, the best approach at this point is to ask slack.  In the documentation under contributing, it tells us how to do so [here](https://docs.greatexpectations.io/docs/contributing/contributing)."
   ]
  },
  {
   "cell_type": "markdown",
   "id": "5ffd8160-4969-45ec-a0ed-5b7ad9fb8c05",
   "metadata": {},
   "source": [
    "So let's join the `#contributing` slack channel, and ask our question.\n"
   ]
  },
  {
   "cell_type": "markdown",
   "id": "e91b06a9-1207-41a6-8245-6bc82df6ea76",
   "metadata": {},
   "source": [
    "* This is what I wrote"
   ]
  },
  {
   "cell_type": "markdown",
   "id": "942315c4-1cdd-4246-9a15-c600df44a90f",
   "metadata": {},
   "source": [
    "\n",
    "Hey gang...trying to tackle my first issue here.\n",
    "\n",
    "I've been looking at [this issue](https://github.com/great-expectations/great_expectations/issues/8797) where apparently upper case columns are breaking with core expectations like [expect_column_values_to_not_be_null](https://github.com/great-expectations/great_expectations/blob/develop/great_expectations/expectations/core/expect_column_values_to_not_be_null.py).  \n",
    "\n",
    "After investigating, I was looking to see where in GE the query was executed against the database.  The closest I could find get to the query logic is the `column_condition_partial` , which [the docs](https://docs.greatexpectations.io/docs/guides/expectations/creating_custom_expectations/how_to_create_custom_column_map_expectations/) say should be implemented with each `ColumnMapExpectation` .  It doesn't look like it's in the [expect_column_values_to_not_be_null](https://github.com/great-expectations/great_expectations/blob/develop/great_expectations/expectations/core/expect_column_values_to_not_be_null.py) expectation.  \n",
    "\n",
    "Any ideas as to where the logic of the database query is executed, or other pointers as to where I should be looking?\n",
    "\n",
    "Thanks!\n",
    "\n",
    "Jeff"
   ]
  },
  {
   "cell_type": "markdown",
   "id": "74819668-43a0-4bd6-8eba-f24397bac008",
   "metadata": {},
   "source": [
    "Notice that in the message above, I explained the general problem I was trying to solve, my best hypothesis, and provided links to show where I was getting stuck.  In other words, it displayed the work done so far.  I also left room at the end for general pointers, as I still may be moving down the wrong path."
   ]
  },
  {
   "cell_type": "markdown",
   "id": "882bf57e-506e-4c77-9b6f-dc8e57f571be",
   "metadata": {},
   "source": [
    "### Postscript"
   ]
  },
  {
   "cell_type": "markdown",
   "id": "9297cf4a-68cf-4bc9-bc44-460a64097ca0",
   "metadata": {},
   "source": [
    "Let's look at other core expectations to see how they are implemented.  That is, where is the actual business logic.  For example, if we look at [this expectation](https://github.com/great-expectations/great_expectations/blob/develop/contrib/experimental/great_expectations_experimental/expectations/expect_column_to_have_no_days_missing.py), the core piece is in the `@metric` decorated functions.  Perhaps there is something similar in our or other breaking expectations, or the classes they inherit from."
   ]
  },
  {
   "cell_type": "code",
   "execution_count": null,
   "id": "68764d74-3080-49ec-bfbf-0e3e5c50f75d",
   "metadata": {},
   "outputs": [],
   "source": []
  }
 ],
 "metadata": {
  "kernelspec": {
   "display_name": "Python 3 (ipykernel)",
   "language": "python",
   "name": "python3"
  },
  "language_info": {
   "codemirror_mode": {
    "name": "ipython",
    "version": 3
   },
   "file_extension": ".py",
   "mimetype": "text/x-python",
   "name": "python",
   "nbconvert_exporter": "python",
   "pygments_lexer": "ipython3",
   "version": "3.9.12"
  }
 },
 "nbformat": 4,
 "nbformat_minor": 5
}
