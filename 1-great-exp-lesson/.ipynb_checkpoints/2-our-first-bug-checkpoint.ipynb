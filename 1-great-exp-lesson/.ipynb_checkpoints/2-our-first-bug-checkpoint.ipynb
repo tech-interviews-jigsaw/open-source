{
 "cells": [
  {
   "cell_type": "markdown",
   "id": "595e5214-66c6-4602-9e4b-ddc5f7ee06e8",
   "metadata": {},
   "source": [
    "# Debugging Great Expectations"
   ]
  },
  {
   "cell_type": "markdown",
   "id": "19f85883-145a-4226-bc33-771dbb00983d",
   "metadata": {},
   "source": [
    "### Introduction"
   ]
  },
  {
   "cell_type": "markdown",
   "id": "be15f5fb-74a3-4696-9b89-1d940012a65a",
   "metadata": {},
   "source": [
    "Now that we got setup with great expectations, let's see if we can solve our first bug."
   ]
  },
  {
   "cell_type": "markdown",
   "id": "4a429854-6a0b-491c-a5f2-9268b0b59b9a",
   "metadata": {},
   "source": [
    "### Our first bug"
   ]
  },
  {
   "cell_type": "markdown",
   "id": "8b1479bf-3c5c-4cfc-b9f6-0d03755ee56e",
   "metadata": {},
   "source": [
    "Choosing an issue.  In general, it is easier to solve a bug than a feature, as it is typically less work.  We should also look for a bug that seems relatively easy -- as the real challenge will be getting familiar with a new codebase.\n",
    "\n",
    "Let's work with the upper case column names [issue here](https://github.com/great-expectations/great_expectations/issues/8619)."
   ]
  },
  {
   "cell_type": "markdown",
   "id": "0aaf3450-851f-4f85-89ba-1ff31f5611f9",
   "metadata": {},
   "source": [
    "Read through the issue.  You can see that they provided a failing test case in the issue.  Copy and paste that code inside of the outer great_expectations codebase and place it in a file called `test.py`. "
   ]
  },
  {
   "cell_type": "markdown",
   "id": "49c17a8d-b5c0-4e6c-be50-cc8d00328a86",
   "metadata": {},
   "source": [
    "Then run the `test.py` file, and confirm that there are failing tests."
   ]
  },
  {
   "cell_type": "markdown",
   "id": "b33215d1-271c-42c5-92e2-866d6d10c71e",
   "metadata": {},
   "source": [
    "<img src=\"./failed.png\">"
   ]
  },
  {
   "cell_type": "markdown",
   "id": "e0112294-e48d-4616-9949-c24801abeb66",
   "metadata": {},
   "source": [
    "### Get to green then red"
   ]
  },
  {
   "cell_type": "markdown",
   "id": "b909860b-831e-41ad-b70c-79c38af2b5f5",
   "metadata": {},
   "source": [
    "Now the issue states that the problem is that great expecations (or the underlying database) works with lower case column names, but things are breaking with upper case column names.  Let's confirm that it really does have to do with the upper casing."
   ]
  },
  {
   "cell_type": "markdown",
   "id": "29caa40b-e010-49cd-8e28-ce77f7996a47",
   "metadata": {},
   "source": [
    "So remove the `.upper()` in the expection.\n",
    "\n",
    "```python\n",
    "expectations = {\n",
    "    \"expect_column_values_to_not_be_null\": {\"column\": column_name},\n",
    "    \"expect_column_values_to_be_null\": {\"column\": column_name},\n",
    "    \"expect_column_max_to_be_between\": {\n",
    "        \"column\": column_name.upper(),\n",
    "        \"min_value\": 1,\n",
    "        \"max_value\": 99,\n",
    "    },\n",
    "```"
   ]
  },
  {
   "cell_type": "markdown",
   "id": "9adc90d2-d542-48af-80a0-1100a528b120",
   "metadata": {},
   "source": [
    "Ok, now if we run the file again, we see that we no longer have failing tests."
   ]
  },
  {
   "cell_type": "markdown",
   "id": "f19f3672-4fc7-426e-93f7-43672f8afa12",
   "metadata": {},
   "source": [
    "<img src=\"./none-failing.png\">"
   ]
  },
  {
   "cell_type": "markdown",
   "id": "2c19c471-4252-471d-b417-916711bab370",
   "metadata": {},
   "source": [
    "So this is a good strategy.  We just want to make sure that there really is a cause and effect between the issue. "
   ]
  },
  {
   "cell_type": "markdown",
   "id": "5fd0b1c1-6e71-4038-9c24-3f74631cb094",
   "metadata": {},
   "source": [
    "### Finding the Relevant Fiels"
   ]
  },
  {
   "cell_type": "markdown",
   "id": "75530349-2fb1-4a22-aa83-eab632832d2e",
   "metadata": {},
   "source": [
    "So how do we figure out what is going on.  Well it might be nice to see where we are actually querying against the database.  Let's see if we can find this out."
   ]
  },
  {
   "cell_type": "markdown",
   "id": "3477f8a3-22d4-4d10-ae3f-c506685b3118",
   "metadata": {},
   "source": [
    "1. Learn Through Exploration\n",
    "\n",
    "Our first thought is to search around in the codebase.  It looks like the `get_attr` method at the bottom of the test.py is essentially some meta-programming that is equivalent to calling `validator.expect_column_values_to_not_be_null`.  \n",
    "\n",
    "So to look for these `validator.expect` functions, we can `cmd + click` on something like line 68, `validator.expect_column_values_to_not_be_null`, which will take us to the following."
   ]
  },
  {
   "cell_type": "markdown",
   "id": "ebb2acd9-3bc8-4e4b-a2a8-340f2ee9e94c",
   "metadata": {},
   "source": [
    "<img src=\"./validator-validate-exp.png\" width=\"60%\">"
   ]
  },
  {
   "cell_type": "markdown",
   "id": "8f520fa7-a08a-4e9c-a17f-eb77f4e10adb",
   "metadata": {},
   "source": [
    "Here, this does not do much, except call `get_expectation_impl`, and `command + clicking` on that, shows us that it selects from a dictionary of expectations.  This is not looking so fruitful -- we can potentially come back to this.  \n",
    "\n",
    "So exploring the codebase wasn't so easy as a first step.  Let's move onto seeing if the documentation provides any more help."
   ]
  },
  {
   "cell_type": "markdown",
   "id": "f65564c5-b6e4-4857-a6a8-2ceea6c97ec1",
   "metadata": {},
   "source": [
    "2. Learn through the documentation\n",
    "\n",
    "The issue says that there are multiple core expectations that fail under this scenario.  Maybe we can learn more about how these expectations work, either by getting a description of expectations in general, or looking at something specific to these expectations and how they are built/relevant files. \n",
    "\n",
    "We can see the documentation [here](https://docs.greatexpectations.io/docs/tutorials/quickstart/).\n",
    "\n",
    "And in doing so, there are a couple of components that look relevant such as: \n",
    "* Looking at the quickstart\n",
    "* Looking at custom implementation of a validator\n",
    "> Maybe this will tell us how validators work underneath\n",
    "* Searching the expecation gallery\n",
    "\n",
    "It turns out there is also an [expectation gallery](https://greatexpectations.io/expectations/).  Let's take a look to see if this can help us.  We can place in our `expect_column_values_to_not_be_null` directly into the search bar, and will get taken to this [link](https://greatexpectations.io/expectations/expect_column_values_to_not_be_null?filterType=Backend%20support&gotoPage=1&showFilters=true&viewType=Summary)."
   ]
  },
  {
   "cell_type": "markdown",
   "id": "5516b073-2e8d-4aed-9d5b-8b174ea05681",
   "metadata": {},
   "source": [
    "Ok, so this looks interesting.  Perhaps the most interesting component is that it says this is of type `Core ColumnMapExpectation`."
   ]
  },
  {
   "cell_type": "markdown",
   "id": "d2b4060e-34b6-4af8-a71c-16d38752f00b",
   "metadata": {},
   "source": [
    "<img src=\"./core-col-map-expect.png\">"
   ]
  },
  {
   "cell_type": "markdown",
   "id": "8d4d5b82-5c72-4e4c-99a5-48a93ce84a4c",
   "metadata": {},
   "source": [
    "### Back to the codebase"
   ]
  },
  {
   "cell_type": "markdown",
   "id": "f50fb6ad-5777-46f1-b500-37bc8b2634c0",
   "metadata": {},
   "source": [
    "So now we believe we may have a clue to where one of our failing expectations is implemented.  Let's look for it inside of the codebase.  We can type `cmd + p` in VScode and look for a matching file (if that doesn't work we can use the finder to search the codebase for ColumnMapExpectation)."
   ]
  },
  {
   "cell_type": "markdown",
   "id": "85bc49ff-d127-4c36-9c5d-722bc6184764",
   "metadata": {},
   "source": [
    "<img src=\"./col-map-exp.png\">"
   ]
  },
  {
   "cell_type": "markdown",
   "id": "d43c4961-2c62-4349-9470-3cb7bbddd12b",
   "metadata": {},
   "source": [
    "> We do this by pressing `cmd + p`."
   ]
  },
  {
   "cell_type": "markdown",
   "id": "a6835d99-6f4c-4509-8d08-d21b6519bb97",
   "metadata": {},
   "source": [
    "then looking through the list of files, the files in the `great_expectations/expectations` folder look most relevant.  \n",
    "\n",
    "> The others are examples or tests."
   ]
  },
  {
   "cell_type": "markdown",
   "id": "dfec4c11-c6ac-428b-b66a-0d7070e8d3cb",
   "metadata": {},
   "source": [
    "So we open up those files, and potentially could go through them one by one.  But neither of them look exactly right -- so let's take another look at the documentation."
   ]
  },
  {
   "cell_type": "markdown",
   "id": "39f10e63-60ae-4e55-9fcc-d26bafc2c4d7",
   "metadata": {},
   "source": [
    "<img src=\"./core-col-map-expect.png\">"
   ]
  },
  {
   "cell_type": "markdown",
   "id": "2ea8603a-ffe6-4703-8e27-2fcfa7df3bc4",
   "metadata": {},
   "source": [
    "It says that it should be a `Core ColumnMapExpectation`.  This seems like a pretty well defined class, which we have not found."
   ]
  },
  {
   "cell_type": "markdown",
   "id": "f8db8285-2fbb-4051-8b10-f036622e5a59",
   "metadata": {},
   "source": [
    "<img src=\"./core-expect.png\">"
   ]
  },
  {
   "cell_type": "markdown",
   "id": "5948e900-3960-42a7-82a1-5d7a1ec3a5ff",
   "metadata": {},
   "source": [
    "But wait, looking at the codebase, there's a folder called `core` staring right at us.  Let's look inside."
   ]
  },
  {
   "cell_type": "markdown",
   "id": "4b91feaf-ef36-4cec-ae16-6770731a3873",
   "metadata": {},
   "source": [
    "<img src=\"./core-tests.png\" width=\"60%\">"
   ]
  },
  {
   "cell_type": "markdown",
   "id": "7d119704-a369-4a9a-9ce8-e9f4003e9df5",
   "metadata": {},
   "source": [
    "Oh this looks interesting.  So let's see if there is a file with the name of the test we are looking for: `expect_column_values_to_not_be_null`."
   ]
  },
  {
   "cell_type": "markdown",
   "id": "db73dd47-432d-42a7-9b00-db1c665b0c78",
   "metadata": {},
   "source": [
    "There is."
   ]
  },
  {
   "cell_type": "markdown",
   "id": "46004b73-719b-4301-a900-5127bc704aca",
   "metadata": {},
   "source": [
    "### Are we done?"
   ]
  },
  {
   "cell_type": "markdown",
   "id": "f78463b9-9d9a-47ef-9fdb-ff18ae614f7d",
   "metadata": {},
   "source": [
    "Now that we have found the correct file, one wonders if Chatgpt can take it from here."
   ]
  },
  {
   "cell_type": "markdown",
   "id": "b95a39f7-062e-4dd2-9105-749e7cec3b3b",
   "metadata": {},
   "source": [
    "I asked ChatGPT to help and copied and pasting the file into GPT-4:"
   ]
  },
  {
   "cell_type": "markdown",
   "id": "9717e33c-b961-4964-aa71-72caeea55854",
   "metadata": {},
   "source": [
    "> <img src=\"./ask-chatgpt.png\">"
   ]
  },
  {
   "cell_type": "markdown",
   "id": "2fc99b35-1236-4a5a-9bba-f54d1c561702",
   "metadata": {},
   "source": [
    "It recommended code changes, but they only broke the code further. This was apparent, as we no longer able to run test.py and get to our failing test, but using Chatgpt's suggestion, it broke ebfore that.\n",
    "\n",
    "Looks like we need to move through this alone.  Score one for the humans.\n",
    "\n",
    "The next step is to search look through this file to understand look for the relevant code.  What's relevant code -- well I would think anything that actually queries the database.  We'll let you take a look how would you handle it from here?"
   ]
  },
  {
   "cell_type": "markdown",
   "id": "4139b6c6-bf99-42e5-a610-0c0450d59ef4",
   "metadata": {},
   "source": [
    "### Summary"
   ]
  },
  {
   "cell_type": "markdown",
   "id": "9a26adff-a1d2-4a11-b410-da23638a9d53",
   "metadata": {},
   "source": [
    "In this lesson we saw some techniques for our exporing the codebase.  We saw that we wanted to see how an expectation was called, and queried our database.  We tried exporing this by seeing what was called from our test.  \n",
    "\n",
    "Then, when we got stuck there, we looked to the documentation.  This seemed to point us to a more promising file, the `expect_column_values_to_not_be_null` file.  \n",
    "\n",
    "We then tried to outsource the rest of our work to ChatGPT but it wasn't so easy."
   ]
  },
  {
   "cell_type": "code",
   "execution_count": null,
   "id": "ecf77379-85d6-4c69-a91a-170fa46a85a6",
   "metadata": {},
   "outputs": [],
   "source": []
  }
 ],
 "metadata": {
  "kernelspec": {
   "display_name": "Python 3 (ipykernel)",
   "language": "python",
   "name": "python3"
  },
  "language_info": {
   "codemirror_mode": {
    "name": "ipython",
    "version": 3
   },
   "file_extension": ".py",
   "mimetype": "text/x-python",
   "name": "python",
   "nbconvert_exporter": "python",
   "pygments_lexer": "ipython3",
   "version": "3.9.12"
  }
 },
 "nbformat": 4,
 "nbformat_minor": 5
}
