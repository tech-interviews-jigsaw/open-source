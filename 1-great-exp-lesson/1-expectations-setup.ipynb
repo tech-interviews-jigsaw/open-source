{
 "cells": [
  {
   "cell_type": "markdown",
   "id": "595e5214-66c6-4602-9e4b-ddc5f7ee06e8",
   "metadata": {},
   "source": [
    "# Open Source with Great Expectations"
   ]
  },
  {
   "cell_type": "markdown",
   "id": "19f85883-145a-4226-bc33-771dbb00983d",
   "metadata": {},
   "source": [
    "### Introduction"
   ]
  },
  {
   "cell_type": "markdown",
   "id": "2a986a08-c102-4082-90f3-f4440be674ed",
   "metadata": {},
   "source": [
    "### Installation"
   ]
  },
  {
   "cell_type": "markdown",
   "id": "71d4b3f0-f45c-4a55-9d51-be29a0b63431",
   "metadata": {},
   "source": [
    "* To install we can move through the steps in the [contributing code readme](https://github.com/great-expectations/great_expectations/blob/develop/CONTRIBUTING_CODE.md)\n",
    "\n",
    "These are the relevant steps:\n",
    "\n",
    "1. Fork and clone the GE library\n",
    "2. Create a virtual environment\n",
    "3. Install the great expectations library\n",
    "* We can do so with the following\n",
    "    * `pip install -c constraints-dev.txt -e \".[test]\"`\n",
    "    * For this example, we will not need additional dependencies.\n",
    "    \n",
    "We can see that both steps 2 and 3 here are optional, so we can skip them and we should be complete."
   ]
  },
  {
   "cell_type": "markdown",
   "id": "a83f2ed4-c044-431e-8b23-287e1b5e7f7e",
   "metadata": {},
   "source": [
    "* Learning a little"
   ]
  },
  {
   "cell_type": "markdown",
   "id": "dc3ff8e1-b4ee-4288-90af-1bd4b4bd0281",
   "metadata": {},
   "source": [
    "Before moving on, just scroll down and read the section of Unit Testing expectations, or you can just [click here](https://github.com/great-expectations/great_expectations/blob/develop/CONTRIBUTING_CODE.md#unit-testing-expectations)."
   ]
  },
  {
   "cell_type": "markdown",
   "id": "5f64b647-0309-4524-a1d3-13cf3c5e9d17",
   "metadata": {},
   "source": [
    "If you read through the documentation, you'll see that the tests follow our same steps of setup and then the test:\n",
    "```python\n",
    "{\n",
    "    \"expectation_type\" : \"expect_column_max_to_be_between\",\n",
    "    \"datasets\" : [{\n",
    "        \"data\" : {...},\n",
    "        \"schemas\" : {...},\n",
    "        \"tests\" : [...]\n",
    "    }]\n",
    "}\n",
    "```\n",
    "\n",
    "This time the data and schema are the setup -- creating a sample table of data.  And the tests are check for input and a corresponding output."
   ]
  },
  {
   "cell_type": "markdown",
   "id": "c0ccf6ac-8c67-4d44-9ccc-b80ab1178f8e",
   "metadata": {},
   "source": [
    "Let's look at the example of the test provided in the documentation to make sure we understand it.\n",
    "```python\n",
    "\"tests\" : [{\n",
    "    \"title\": \"Basic negative test case\",\n",
    "    \"exact_match_out\" : false,\n",
    "    \"in\": {\n",
    "        \"column\": \"w\",\n",
    "        \"result_format\": \"BASIC\",\n",
    "        \"min_value\": null,\n",
    "        \"max_value\": 4\n",
    "    },\n",
    "    \"out\": {\n",
    "        \"success\": false,\n",
    "        \"observed_value\": 5\n",
    "    },\n",
    "    \"suppress_test_for\": [\"sqlite\"]\n",
    "},\n",
    "...\n",
    "]\n",
    "```"
   ]
  },
  {
   "cell_type": "markdown",
   "id": "2e8c8bc3-2478-42c0-b396-e36f4cffa962",
   "metadata": {},
   "source": [
    "The values in `in`, are the keyword arguments provided to the `expect_column_max_to_be_between` expectation -- so here it's expected the max is between null and 4.  The function should return `{success: false, observed_value: 5}`.  This is a good result from our `expect_column_max_to_be_between` function.  It has detected that the max value is not between null and 4, it's 5."
   ]
  },
  {
   "cell_type": "markdown",
   "id": "885cb7bb-66b4-491a-a63c-9e02be171aaa",
   "metadata": {},
   "source": [
    "### Summary"
   ]
  },
  {
   "cell_type": "markdown",
   "id": "da415d52-2654-4ebc-9564-954c4445c031",
   "metadata": {},
   "source": [
    "In this lesson, we saw how we can install great expceations -- our testing library.  We also saw how we can write tests for the expectations themselves, and moved through the documentation to understand this."
   ]
  },
  {
   "cell_type": "code",
   "execution_count": null,
   "id": "24adec2a-7bcc-4391-8f72-c6a4442dd9a3",
   "metadata": {},
   "outputs": [],
   "source": []
  }
 ],
 "metadata": {
  "kernelspec": {
   "display_name": "Python 3 (ipykernel)",
   "language": "python",
   "name": "python3"
  },
  "language_info": {
   "codemirror_mode": {
    "name": "ipython",
    "version": 3
   },
   "file_extension": ".py",
   "mimetype": "text/x-python",
   "name": "python",
   "nbconvert_exporter": "python",
   "pygments_lexer": "ipython3",
   "version": "3.9.12"
  }
 },
 "nbformat": 4,
 "nbformat_minor": 5
}
