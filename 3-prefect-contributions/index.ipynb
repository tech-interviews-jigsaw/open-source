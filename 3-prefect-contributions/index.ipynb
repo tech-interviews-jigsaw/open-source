{
 "cells": [
  {
   "cell_type": "markdown",
   "id": "85c7c403-3dc9-463a-bfd8-51412a3c0a35",
   "metadata": {},
   "source": [
    "## Prefect Commits"
   ]
  },
  {
   "cell_type": "markdown",
   "id": "573f74f4-4b82-48e3-bb7e-9a776ed9ed80",
   "metadata": {},
   "source": [
    "* Good first issues"
   ]
  },
  {
   "cell_type": "markdown",
   "id": "b63be350-b8d9-40ad-9456-292a8a1dcd50",
   "metadata": {},
   "source": [
    "* https://github.com/PrefectHQ/prefect/issues/10885\n",
    "* https://github.com/PrefectHQ/prefect/issues/10954\n",
    "* https://github.com/PrefectHQ/prefect/issues/10963\n",
    "* https://github.com/PrefectHQ/prefect/pull/10755/files"
   ]
  },
  {
   "cell_type": "code",
   "execution_count": null,
   "id": "f8774f34-3947-442b-b657-910817b7871a",
   "metadata": {},
   "outputs": [],
   "source": []
  }
 ],
 "metadata": {
  "kernelspec": {
   "display_name": "Python 3 (ipykernel)",
   "language": "python",
   "name": "python3"
  },
  "language_info": {
   "codemirror_mode": {
    "name": "ipython",
    "version": 3
   },
   "file_extension": ".py",
   "mimetype": "text/x-python",
   "name": "python",
   "nbconvert_exporter": "python",
   "pygments_lexer": "ipython3",
   "version": "3.9.12"
  }
 },
 "nbformat": 4,
 "nbformat_minor": 5
}
